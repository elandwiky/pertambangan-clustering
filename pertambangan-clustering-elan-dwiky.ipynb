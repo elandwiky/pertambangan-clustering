{
 "cells": [
  {
   "cell_type": "markdown",
   "id": "e3c29fe1",
   "metadata": {
    "papermill": {
     "duration": 0.038917,
     "end_time": "2022-04-20T20:24:10.395124",
     "exception": false,
     "start_time": "2022-04-20T20:24:10.356207",
     "status": "completed"
    },
    "tags": []
   },
   "source": []
  },
  {
   "cell_type": "raw",
   "id": "fc7ce94d",
   "metadata": {
    "_cell_guid": "b1076dfc-b9ad-4769-8c92-a6c4dae69d19",
    "_uuid": "8f2839f25d086af736a60e9eeb907d3b93b6e0e5",
    "papermill": {
     "duration": 0.03568,
     "end_time": "2022-04-20T20:24:10.467141",
     "exception": false,
     "start_time": "2022-04-20T20:24:10.431461",
     "status": "completed"
    },
    "tags": []
   },
   "source": [
    "# This Python 3 environment comes with many helpful analytics libraries installed\n",
    "# It is defined by the kaggle/python Docker image: https://github.com/kaggle/docker-python\n",
    "# For example, here's several helpful packages to load\n",
    "\n",
    "import numpy as np # linear algebra\n",
    "import pandas as pd # data processing, CSV file I/O (e.g. pd.read_csv)\n",
    "\n",
    "# Input data files are available in the read-only \"../input/\" directory\n",
    "# For example, running this (by clicking run or pressing Shift+Enter) will list all files under the input directory\n",
    "\n",
    "import os\n",
    "for dirname, _, filenames in os.walk('/kaggle/input'):\n",
    "    for filename in filenames:\n",
    "        print(os.path.join(dirname, filename))\n",
    "\n",
    "# You can write up to 20GB to the current directory (/kaggle/working/) that gets preserved as output when you create a version using \"Save & Run All\" \n",
    "# You can also write temporary files to /kaggle/temp/, but they won't be saved outside of the current session"
   ]
  },
  {
   "cell_type": "code",
   "execution_count": 1,
   "id": "58cdf249",
   "metadata": {
    "execution": {
     "iopub.execute_input": "2022-04-20T20:24:10.541452Z",
     "iopub.status.busy": "2022-04-20T20:24:10.540946Z",
     "iopub.status.idle": "2022-04-20T20:24:11.730035Z",
     "shell.execute_reply": "2022-04-20T20:24:11.729006Z"
    },
    "papermill": {
     "duration": 1.229291,
     "end_time": "2022-04-20T20:24:11.732568",
     "exception": false,
     "start_time": "2022-04-20T20:24:10.503277",
     "status": "completed"
    },
    "tags": []
   },
   "outputs": [],
   "source": [
    "import pandas as pd \n",
    "import numpy as np\n",
    "import matplotlib.pyplot as plt\n",
    "import seaborn as sns\n",
    "from matplotlib.colors import ListedColormap\n",
    "%matplotlib inline\n",
    "from scipy import stats"
   ]
  },
  {
   "cell_type": "code",
   "execution_count": 2,
   "id": "69718df9",
   "metadata": {
    "execution": {
     "iopub.execute_input": "2022-04-20T20:24:11.807401Z",
     "iopub.status.busy": "2022-04-20T20:24:11.807095Z",
     "iopub.status.idle": "2022-04-20T20:24:11.843067Z",
     "shell.execute_reply": "2022-04-20T20:24:11.842377Z"
    },
    "papermill": {
     "duration": 0.075564,
     "end_time": "2022-04-20T20:24:11.845143",
     "exception": false,
     "start_time": "2022-04-20T20:24:11.769579",
     "status": "completed"
    },
    "tags": []
   },
   "outputs": [
    {
     "name": "stdout",
     "output_type": "stream",
     "text": [
      "<class 'pandas.core.frame.DataFrame'>\n",
      "RangeIndex: 31 entries, 0 to 30\n",
      "Data columns (total 6 columns):\n",
      " #   Column                   Non-Null Count  Dtype  \n",
      "---  ------                   --------------  -----  \n",
      " 0   Emitten                  31 non-null     object \n",
      " 1   DER                      31 non-null     float64\n",
      " 2   Operating Profit Margin  31 non-null     float64\n",
      " 3   Return On Asset          31 non-null     float64\n",
      " 4   Sales Growth             31 non-null     float64\n",
      " 5   Category                 0 non-null      float64\n",
      "dtypes: float64(5), object(1)\n",
      "memory usage: 1.6+ KB\n"
     ]
    }
   ],
   "source": [
    "df0 = pd.read_csv('../input/pertambangandata/datapertambangan.csv')\n",
    "df0.info()"
   ]
  },
  {
   "cell_type": "code",
   "execution_count": 3,
   "id": "81c5c48d",
   "metadata": {
    "execution": {
     "iopub.execute_input": "2022-04-20T20:24:11.923984Z",
     "iopub.status.busy": "2022-04-20T20:24:11.923464Z",
     "iopub.status.idle": "2022-04-20T20:24:11.959153Z",
     "shell.execute_reply": "2022-04-20T20:24:11.958473Z"
    },
    "papermill": {
     "duration": 0.078934,
     "end_time": "2022-04-20T20:24:11.961184",
     "exception": false,
     "start_time": "2022-04-20T20:24:11.882250",
     "status": "completed"
    },
    "tags": []
   },
   "outputs": [
    {
     "data": {
      "text/html": [
       "<div>\n",
       "<style scoped>\n",
       "    .dataframe tbody tr th:only-of-type {\n",
       "        vertical-align: middle;\n",
       "    }\n",
       "\n",
       "    .dataframe tbody tr th {\n",
       "        vertical-align: top;\n",
       "    }\n",
       "\n",
       "    .dataframe thead th {\n",
       "        text-align: right;\n",
       "    }\n",
       "</style>\n",
       "<table border=\"1\" class=\"dataframe\">\n",
       "  <thead>\n",
       "    <tr style=\"text-align: right;\">\n",
       "      <th></th>\n",
       "      <th>DER</th>\n",
       "      <th>Operating Profit Margin</th>\n",
       "      <th>Return On Asset</th>\n",
       "      <th>Sales Growth</th>\n",
       "      <th>Category</th>\n",
       "    </tr>\n",
       "  </thead>\n",
       "  <tbody>\n",
       "    <tr>\n",
       "      <th>count</th>\n",
       "      <td>31.000000</td>\n",
       "      <td>31.000000</td>\n",
       "      <td>31.000000</td>\n",
       "      <td>31.000000</td>\n",
       "      <td>0.0</td>\n",
       "    </tr>\n",
       "    <tr>\n",
       "      <th>mean</th>\n",
       "      <td>-0.130656</td>\n",
       "      <td>73.220905</td>\n",
       "      <td>0.028207</td>\n",
       "      <td>0.339159</td>\n",
       "      <td>NaN</td>\n",
       "    </tr>\n",
       "    <tr>\n",
       "      <th>std</th>\n",
       "      <td>6.898275</td>\n",
       "      <td>204.450236</td>\n",
       "      <td>0.274507</td>\n",
       "      <td>0.464498</td>\n",
       "      <td>NaN</td>\n",
       "    </tr>\n",
       "    <tr>\n",
       "      <th>min</th>\n",
       "      <td>-26.250000</td>\n",
       "      <td>-230.610000</td>\n",
       "      <td>-1.190000</td>\n",
       "      <td>-0.371777</td>\n",
       "      <td>NaN</td>\n",
       "    </tr>\n",
       "    <tr>\n",
       "      <th>25%</th>\n",
       "      <td>0.310000</td>\n",
       "      <td>0.546326</td>\n",
       "      <td>-0.020000</td>\n",
       "      <td>0.000000</td>\n",
       "      <td>NaN</td>\n",
       "    </tr>\n",
       "    <tr>\n",
       "      <th>50%</th>\n",
       "      <td>0.580000</td>\n",
       "      <td>3.887000</td>\n",
       "      <td>0.020000</td>\n",
       "      <td>0.249980</td>\n",
       "      <td>NaN</td>\n",
       "    </tr>\n",
       "    <tr>\n",
       "      <th>75%</th>\n",
       "      <td>1.310000</td>\n",
       "      <td>40.055000</td>\n",
       "      <td>0.140000</td>\n",
       "      <td>0.698977</td>\n",
       "      <td>NaN</td>\n",
       "    </tr>\n",
       "    <tr>\n",
       "      <th>max</th>\n",
       "      <td>12.220000</td>\n",
       "      <td>744.890000</td>\n",
       "      <td>0.460000</td>\n",
       "      <td>1.185336</td>\n",
       "      <td>NaN</td>\n",
       "    </tr>\n",
       "  </tbody>\n",
       "</table>\n",
       "</div>"
      ],
      "text/plain": [
       "             DER  Operating Profit Margin  Return On Asset  Sales Growth  \\\n",
       "count  31.000000                31.000000        31.000000     31.000000   \n",
       "mean   -0.130656                73.220905         0.028207      0.339159   \n",
       "std     6.898275               204.450236         0.274507      0.464498   \n",
       "min   -26.250000              -230.610000        -1.190000     -0.371777   \n",
       "25%     0.310000                 0.546326        -0.020000      0.000000   \n",
       "50%     0.580000                 3.887000         0.020000      0.249980   \n",
       "75%     1.310000                40.055000         0.140000      0.698977   \n",
       "max    12.220000               744.890000         0.460000      1.185336   \n",
       "\n",
       "       Category  \n",
       "count       0.0  \n",
       "mean        NaN  \n",
       "std         NaN  \n",
       "min         NaN  \n",
       "25%         NaN  \n",
       "50%         NaN  \n",
       "75%         NaN  \n",
       "max         NaN  "
      ]
     },
     "execution_count": 3,
     "metadata": {},
     "output_type": "execute_result"
    }
   ],
   "source": [
    "df0.describe()"
   ]
  },
  {
   "cell_type": "code",
   "execution_count": 4,
   "id": "b9588dda",
   "metadata": {
    "execution": {
     "iopub.execute_input": "2022-04-20T20:24:12.039136Z",
     "iopub.status.busy": "2022-04-20T20:24:12.038216Z",
     "iopub.status.idle": "2022-04-20T20:24:12.044021Z",
     "shell.execute_reply": "2022-04-20T20:24:12.043163Z"
    },
    "papermill": {
     "duration": 0.047892,
     "end_time": "2022-04-20T20:24:12.046249",
     "exception": false,
     "start_time": "2022-04-20T20:24:11.998357",
     "status": "completed"
    },
    "tags": []
   },
   "outputs": [],
   "source": [
    "df0.drop([\"Emitten\",\"Category\"], axis=1, inplace=True)"
   ]
  },
  {
   "cell_type": "code",
   "execution_count": 5,
   "id": "c4308e90",
   "metadata": {
    "execution": {
     "iopub.execute_input": "2022-04-20T20:24:12.124568Z",
     "iopub.status.busy": "2022-04-20T20:24:12.124260Z",
     "iopub.status.idle": "2022-04-20T20:24:14.003775Z",
     "shell.execute_reply": "2022-04-20T20:24:14.002704Z"
    },
    "papermill": {
     "duration": 1.920784,
     "end_time": "2022-04-20T20:24:14.006138",
     "exception": false,
     "start_time": "2022-04-20T20:24:12.085354",
     "status": "completed"
    },
    "tags": []
   },
   "outputs": [
    {
     "data": {
      "text/plain": [
       "<Figure size 1080x1080 with 0 Axes>"
      ]
     },
     "metadata": {},
     "output_type": "display_data"
    },
    {
     "data": {
      "image/png": "[encoded data removed]",
      "text/plain": [
       "<Figure size 540x540 with 12 Axes>"
      ]
     },
     "metadata": {
      "needs_background": "light"
     },
     "output_type": "display_data"
    }
   ],
   "source": [
    "plt.figure(figsize=(15, 15))\n",
    "sns.pairplot(df0, vars = df0.columns[1:13]);"
   ]
  },
  {
   "cell_type": "code",
   "execution_count": 6,
   "id": "10a86005",
   "metadata": {
    "execution": {
     "iopub.execute_input": "2022-04-20T20:24:14.087200Z",
     "iopub.status.busy": "2022-04-20T20:24:14.086883Z",
     "iopub.status.idle": "2022-04-20T20:24:14.116269Z",
     "shell.execute_reply": "2022-04-20T20:24:14.115414Z"
    },
    "papermill": {
     "duration": 0.072294,
     "end_time": "2022-04-20T20:24:14.118420",
     "exception": false,
     "start_time": "2022-04-20T20:24:14.046126",
     "status": "completed"
    },
    "tags": []
   },
   "outputs": [
    {
     "data": {
      "text/html": [
       "<div>\n",
       "<style scoped>\n",
       "    .dataframe tbody tr th:only-of-type {\n",
       "        vertical-align: middle;\n",
       "    }\n",
       "\n",
       "    .dataframe tbody tr th {\n",
       "        vertical-align: top;\n",
       "    }\n",
       "\n",
       "    .dataframe thead th {\n",
       "        text-align: right;\n",
       "    }\n",
       "</style>\n",
       "<table border=\"1\" class=\"dataframe\">\n",
       "  <thead>\n",
       "    <tr style=\"text-align: right;\">\n",
       "      <th></th>\n",
       "      <th>DER</th>\n",
       "      <th>Operating Profit Margin</th>\n",
       "      <th>Return On Asset</th>\n",
       "      <th>Sales Growth</th>\n",
       "      <th>Category</th>\n",
       "    </tr>\n",
       "  </thead>\n",
       "  <tbody>\n",
       "    <tr>\n",
       "      <th>count</th>\n",
       "      <td>31.000000</td>\n",
       "      <td>31.000000</td>\n",
       "      <td>31.000000</td>\n",
       "      <td>31.000000</td>\n",
       "      <td>0.0</td>\n",
       "    </tr>\n",
       "    <tr>\n",
       "      <th>mean</th>\n",
       "      <td>-0.130656</td>\n",
       "      <td>73.220905</td>\n",
       "      <td>0.028207</td>\n",
       "      <td>0.339159</td>\n",
       "      <td>NaN</td>\n",
       "    </tr>\n",
       "    <tr>\n",
       "      <th>std</th>\n",
       "      <td>6.898275</td>\n",
       "      <td>204.450236</td>\n",
       "      <td>0.274507</td>\n",
       "      <td>0.464498</td>\n",
       "      <td>NaN</td>\n",
       "    </tr>\n",
       "    <tr>\n",
       "      <th>min</th>\n",
       "      <td>-26.250000</td>\n",
       "      <td>-230.610000</td>\n",
       "      <td>-1.190000</td>\n",
       "      <td>-0.371777</td>\n",
       "      <td>NaN</td>\n",
       "    </tr>\n",
       "    <tr>\n",
       "      <th>25%</th>\n",
       "      <td>0.310000</td>\n",
       "      <td>0.546326</td>\n",
       "      <td>-0.020000</td>\n",
       "      <td>0.000000</td>\n",
       "      <td>NaN</td>\n",
       "    </tr>\n",
       "    <tr>\n",
       "      <th>50%</th>\n",
       "      <td>0.580000</td>\n",
       "      <td>3.887000</td>\n",
       "      <td>0.020000</td>\n",
       "      <td>0.249980</td>\n",
       "      <td>NaN</td>\n",
       "    </tr>\n",
       "    <tr>\n",
       "      <th>75%</th>\n",
       "      <td>1.310000</td>\n",
       "      <td>40.055000</td>\n",
       "      <td>0.140000</td>\n",
       "      <td>0.698977</td>\n",
       "      <td>NaN</td>\n",
       "    </tr>\n",
       "    <tr>\n",
       "      <th>max</th>\n",
       "      <td>12.220000</td>\n",
       "      <td>744.890000</td>\n",
       "      <td>0.460000</td>\n",
       "      <td>1.185336</td>\n",
       "      <td>NaN</td>\n",
       "    </tr>\n",
       "  </tbody>\n",
       "</table>\n",
       "</div>"
      ],
      "text/plain": [
       "             DER  Operating Profit Margin  Return On Asset  Sales Growth  \\\n",
       "count  31.000000                31.000000        31.000000     31.000000   \n",
       "mean   -0.130656                73.220905         0.028207      0.339159   \n",
       "std     6.898275               204.450236         0.274507      0.464498   \n",
       "min   -26.250000              -230.610000        -1.190000     -0.371777   \n",
       "25%     0.310000                 0.546326        -0.020000      0.000000   \n",
       "50%     0.580000                 3.887000         0.020000      0.249980   \n",
       "75%     1.310000                40.055000         0.140000      0.698977   \n",
       "max    12.220000               744.890000         0.460000      1.185336   \n",
       "\n",
       "       Category  \n",
       "count       0.0  \n",
       "mean        NaN  \n",
       "std         NaN  \n",
       "min         NaN  \n",
       "25%         NaN  \n",
       "50%         NaN  \n",
       "75%         NaN  \n",
       "max         NaN  "
      ]
     },
     "execution_count": 6,
     "metadata": {},
     "output_type": "execute_result"
    }
   ],
   "source": [
    "df0 = pd.read_csv('../input/pertambangandata/datapertambangan.csv')\n",
    "df1 = df0[['DER','Operating Profit Margin' ,'Return On Asset','Sales Growth','Category']]\n",
    "df1.describe()"
   ]
  },
  {
   "cell_type": "code",
   "execution_count": 7,
   "id": "a35d0c29",
   "metadata": {
    "execution": {
     "iopub.execute_input": "2022-04-20T20:24:14.200114Z",
     "iopub.status.busy": "2022-04-20T20:24:14.199695Z",
     "iopub.status.idle": "2022-04-20T20:24:14.551842Z",
     "shell.execute_reply": "2022-04-20T20:24:14.551167Z"
    },
    "papermill": {
     "duration": 0.395039,
     "end_time": "2022-04-20T20:24:14.553815",
     "exception": false,
     "start_time": "2022-04-20T20:24:14.158776",
     "status": "completed"
    },
    "tags": []
   },
   "outputs": [
    {
     "data": {
      "text/plain": [
       "<AxesSubplot:xlabel='Emitten', ylabel='Operating Profit Margin'>"
      ]
     },
     "execution_count": 7,
     "metadata": {},
     "output_type": "execute_result"
    },
    {
     "data": {
      "image/png": "[encoded data removed]",
      "text/plain": [
       "<Figure size 1296x288 with 1 Axes>"
      ]
     },
     "metadata": {
      "needs_background": "light"
     },
     "output_type": "display_data"
    }
   ],
   "source": [
    "plt.figure(figsize=(18, 4))\n",
    "plt.xticks(rotation=45)\n",
    "sns.scatterplot(x='Emitten', y='Operating Profit Margin', \n",
    "                data=df0, s=80)"
   ]
  },
  {
   "cell_type": "code",
   "execution_count": 8,
   "id": "70de7e4e",
   "metadata": {
    "execution": {
     "iopub.execute_input": "2022-04-20T20:24:14.640607Z",
     "iopub.status.busy": "2022-04-20T20:24:14.639619Z",
     "iopub.status.idle": "2022-04-20T20:24:15.123103Z",
     "shell.execute_reply": "2022-04-20T20:24:15.122114Z"
    },
    "papermill": {
     "duration": 0.529026,
     "end_time": "2022-04-20T20:24:15.125969",
     "exception": false,
     "start_time": "2022-04-20T20:24:14.596943",
     "status": "completed"
    },
    "tags": []
   },
   "outputs": [
    {
     "data": {
      "text/plain": [
       "<AxesSubplot:xlabel='Emitten', ylabel='DER'>"
      ]
     },
     "execution_count": 8,
     "metadata": {},
     "output_type": "execute_result"
    },
    {
     "data": {
      "image/png": "[encoded data removed]",
      "text/plain": [
       "<Figure size 1296x288 with 1 Axes>"
      ]
     },
     "metadata": {
      "needs_background": "light"
     },
     "output_type": "display_data"
    }
   ],
   "source": [
    "plt.figure(figsize=(18, 4))\n",
    "plt.xticks(rotation=45)\n",
    "sns.scatterplot(x='Emitten', y='DER', \n",
    "                data=df0, s=80)"
   ]
  },
  {
   "cell_type": "code",
   "execution_count": 9,
   "id": "264ecb73",
   "metadata": {
    "execution": {
     "iopub.execute_input": "2022-04-20T20:24:15.215009Z",
     "iopub.status.busy": "2022-04-20T20:24:15.214437Z",
     "iopub.status.idle": "2022-04-20T20:24:15.580771Z",
     "shell.execute_reply": "2022-04-20T20:24:15.579665Z"
    },
    "papermill": {
     "duration": 0.413336,
     "end_time": "2022-04-20T20:24:15.583080",
     "exception": false,
     "start_time": "2022-04-20T20:24:15.169744",
     "status": "completed"
    },
    "tags": []
   },
   "outputs": [
    {
     "data": {
      "text/plain": [
       "<AxesSubplot:xlabel='Emitten', ylabel='Sales Growth'>"
      ]
     },
     "execution_count": 9,
     "metadata": {},
     "output_type": "execute_result"
    },
    {
     "data": {
      "image/png": "[encoded data removed]",
      "text/plain": [
       "<Figure size 1296x288 with 1 Axes>"
      ]
     },
     "metadata": {
      "needs_background": "light"
     },
     "output_type": "display_data"
    }
   ],
   "source": [
    "plt.figure(figsize=(18, 4))\n",
    "plt.xticks(rotation=45)\n",
    "sns.scatterplot(x='Emitten', y='Sales Growth', \n",
    "                data=df0, s=80)"
   ]
  },
  {
   "cell_type": "code",
   "execution_count": 10,
   "id": "c35e883b",
   "metadata": {
    "execution": {
     "iopub.execute_input": "2022-04-20T20:24:15.676030Z",
     "iopub.status.busy": "2022-04-20T20:24:15.675528Z",
     "iopub.status.idle": "2022-04-20T20:24:15.685042Z",
     "shell.execute_reply": "2022-04-20T20:24:15.684145Z"
    },
    "papermill": {
     "duration": 0.058803,
     "end_time": "2022-04-20T20:24:15.688068",
     "exception": false,
     "start_time": "2022-04-20T20:24:15.629265",
     "status": "completed"
    },
    "tags": []
   },
   "outputs": [
    {
     "name": "stdout",
     "output_type": "stream",
     "text": [
      "Jumlah baris sebelum memfilter outlier: 31\n",
      "Jumlah baris setelah memfilter outlier: 29\n"
     ]
    }
   ],
   "source": [
    "print(f'Jumlah baris sebelum memfilter outlier: {len(df1)}')\n",
    "\n",
    "filtered_entries = np.array([False] * len(df1))\n",
    "for col in ['Operating Profit Margin']:\n",
    "    zscore = abs(stats.zscore(df1[col]))\n",
    "    filtered_entries = (zscore < 3) | filtered_entries\n",
    "    \n",
    "df1 = df1[filtered_entries]\n",
    "\n",
    "print(f'Jumlah baris setelah memfilter outlier: {len(df1)}')"
   ]
  },
  {
   "cell_type": "code",
   "execution_count": 11,
   "id": "95a12b5d",
   "metadata": {
    "execution": {
     "iopub.execute_input": "2022-04-20T20:24:15.781427Z",
     "iopub.status.busy": "2022-04-20T20:24:15.781095Z",
     "iopub.status.idle": "2022-04-20T20:24:15.807206Z",
     "shell.execute_reply": "2022-04-20T20:24:15.806367Z"
    },
    "papermill": {
     "duration": 0.07551,
     "end_time": "2022-04-20T20:24:15.809536",
     "exception": false,
     "start_time": "2022-04-20T20:24:15.734026",
     "status": "completed"
    },
    "tags": []
   },
   "outputs": [
    {
     "data": {
      "text/html": [
       "<div>\n",
       "<style scoped>\n",
       "    .dataframe tbody tr th:only-of-type {\n",
       "        vertical-align: middle;\n",
       "    }\n",
       "\n",
       "    .dataframe tbody tr th {\n",
       "        vertical-align: top;\n",
       "    }\n",
       "\n",
       "    .dataframe thead th {\n",
       "        text-align: right;\n",
       "    }\n",
       "</style>\n",
       "<table border=\"1\" class=\"dataframe\">\n",
       "  <thead>\n",
       "    <tr style=\"text-align: right;\">\n",
       "      <th></th>\n",
       "      <th>DER</th>\n",
       "      <th>Operating Profit Margin</th>\n",
       "      <th>Return On Asset</th>\n",
       "      <th>Sales Growth</th>\n",
       "      <th>Category</th>\n",
       "    </tr>\n",
       "  </thead>\n",
       "  <tbody>\n",
       "    <tr>\n",
       "      <th>count</th>\n",
       "      <td>29.000000</td>\n",
       "      <td>29.000000</td>\n",
       "      <td>29.000000</td>\n",
       "      <td>29.000000</td>\n",
       "      <td>0.0</td>\n",
       "    </tr>\n",
       "    <tr>\n",
       "      <th>mean</th>\n",
       "      <td>-0.168287</td>\n",
       "      <td>28.456829</td>\n",
       "      <td>0.016704</td>\n",
       "      <td>0.304962</td>\n",
       "      <td>NaN</td>\n",
       "    </tr>\n",
       "    <tr>\n",
       "      <th>std</th>\n",
       "      <td>7.138746</td>\n",
       "      <td>112.163491</td>\n",
       "      <td>0.279227</td>\n",
       "      <td>0.454065</td>\n",
       "      <td>NaN</td>\n",
       "    </tr>\n",
       "    <tr>\n",
       "      <th>min</th>\n",
       "      <td>-26.250000</td>\n",
       "      <td>-230.610000</td>\n",
       "      <td>-1.190000</td>\n",
       "      <td>-0.371777</td>\n",
       "      <td>NaN</td>\n",
       "    </tr>\n",
       "    <tr>\n",
       "      <th>25%</th>\n",
       "      <td>0.310000</td>\n",
       "      <td>0.086652</td>\n",
       "      <td>-0.020000</td>\n",
       "      <td>0.000000</td>\n",
       "      <td>NaN</td>\n",
       "    </tr>\n",
       "    <tr>\n",
       "      <th>50%</th>\n",
       "      <td>0.650000</td>\n",
       "      <td>3.290000</td>\n",
       "      <td>0.010000</td>\n",
       "      <td>0.220287</td>\n",
       "      <td>NaN</td>\n",
       "    </tr>\n",
       "    <tr>\n",
       "      <th>75%</th>\n",
       "      <td>1.420000</td>\n",
       "      <td>24.640000</td>\n",
       "      <td>0.080000</td>\n",
       "      <td>0.688955</td>\n",
       "      <td>NaN</td>\n",
       "    </tr>\n",
       "    <tr>\n",
       "      <th>max</th>\n",
       "      <td>12.220000</td>\n",
       "      <td>304.460000</td>\n",
       "      <td>0.460000</td>\n",
       "      <td>1.185336</td>\n",
       "      <td>NaN</td>\n",
       "    </tr>\n",
       "  </tbody>\n",
       "</table>\n",
       "</div>"
      ],
      "text/plain": [
       "             DER  Operating Profit Margin  Return On Asset  Sales Growth  \\\n",
       "count  29.000000                29.000000        29.000000     29.000000   \n",
       "mean   -0.168287                28.456829         0.016704      0.304962   \n",
       "std     7.138746               112.163491         0.279227      0.454065   \n",
       "min   -26.250000              -230.610000        -1.190000     -0.371777   \n",
       "25%     0.310000                 0.086652        -0.020000      0.000000   \n",
       "50%     0.650000                 3.290000         0.010000      0.220287   \n",
       "75%     1.420000                24.640000         0.080000      0.688955   \n",
       "max    12.220000               304.460000         0.460000      1.185336   \n",
       "\n",
       "       Category  \n",
       "count       0.0  \n",
       "mean        NaN  \n",
       "std         NaN  \n",
       "min         NaN  \n",
       "25%         NaN  \n",
       "50%         NaN  \n",
       "75%         NaN  \n",
       "max         NaN  "
      ]
     },
     "execution_count": 11,
     "metadata": {},
     "output_type": "execute_result"
    }
   ],
   "source": [
    "df1.describe()"
   ]
  },
  {
   "cell_type": "code",
   "execution_count": 12,
   "id": "c6496541",
   "metadata": {
    "execution": {
     "iopub.execute_input": "2022-04-20T20:24:15.903899Z",
     "iopub.status.busy": "2022-04-20T20:24:15.903440Z",
     "iopub.status.idle": "2022-04-20T20:24:16.078171Z",
     "shell.execute_reply": "2022-04-20T20:24:16.077130Z"
    },
    "papermill": {
     "duration": 0.224476,
     "end_time": "2022-04-20T20:24:16.080727",
     "exception": false,
     "start_time": "2022-04-20T20:24:15.856251",
     "status": "completed"
    },
    "tags": []
   },
   "outputs": [
    {
     "data": {
      "text/html": [
       "<div>\n",
       "<style scoped>\n",
       "    .dataframe tbody tr th:only-of-type {\n",
       "        vertical-align: middle;\n",
       "    }\n",
       "\n",
       "    .dataframe tbody tr th {\n",
       "        vertical-align: top;\n",
       "    }\n",
       "\n",
       "    .dataframe thead th {\n",
       "        text-align: right;\n",
       "    }\n",
       "</style>\n",
       "<table border=\"1\" class=\"dataframe\">\n",
       "  <thead>\n",
       "    <tr style=\"text-align: right;\">\n",
       "      <th></th>\n",
       "      <th>DER</th>\n",
       "      <th>Operating Profit Margin</th>\n",
       "      <th>Sales Growth</th>\n",
       "    </tr>\n",
       "  </thead>\n",
       "  <tbody>\n",
       "    <tr>\n",
       "      <th>count</th>\n",
       "      <td>2.900000e+01</td>\n",
       "      <td>2.900000e+01</td>\n",
       "      <td>2.900000e+01</td>\n",
       "    </tr>\n",
       "    <tr>\n",
       "      <th>mean</th>\n",
       "      <td>-2.584140e-17</td>\n",
       "      <td>1.914178e-18</td>\n",
       "      <td>1.722760e-17</td>\n",
       "    </tr>\n",
       "    <tr>\n",
       "      <th>std</th>\n",
       "      <td>1.017700e+00</td>\n",
       "      <td>1.017700e+00</td>\n",
       "      <td>1.017700e+00</td>\n",
       "    </tr>\n",
       "    <tr>\n",
       "      <th>min</th>\n",
       "      <td>-3.718212e+00</td>\n",
       "      <td>-2.350608e+00</td>\n",
       "      <td>-1.516781e+00</td>\n",
       "    </tr>\n",
       "    <tr>\n",
       "      <th>25%</th>\n",
       "      <td>6.818471e-02</td>\n",
       "      <td>-2.574130e-01</td>\n",
       "      <td>-6.835142e-01</td>\n",
       "    </tr>\n",
       "    <tr>\n",
       "      <th>50%</th>\n",
       "      <td>1.166552e-01</td>\n",
       "      <td>-2.283479e-01</td>\n",
       "      <td>-1.897838e-01</td>\n",
       "    </tr>\n",
       "    <tr>\n",
       "      <th>75%</th>\n",
       "      <td>2.264265e-01</td>\n",
       "      <td>-3.463149e-02</td>\n",
       "      <td>8.606468e-01</td>\n",
       "    </tr>\n",
       "    <tr>\n",
       "      <th>max</th>\n",
       "      <td>1.766076e+00</td>\n",
       "      <td>2.504278e+00</td>\n",
       "      <td>1.973190e+00</td>\n",
       "    </tr>\n",
       "  </tbody>\n",
       "</table>\n",
       "</div>"
      ],
      "text/plain": [
       "                DER  Operating Profit Margin  Sales Growth\n",
       "count  2.900000e+01             2.900000e+01  2.900000e+01\n",
       "mean  -2.584140e-17             1.914178e-18  1.722760e-17\n",
       "std    1.017700e+00             1.017700e+00  1.017700e+00\n",
       "min   -3.718212e+00            -2.350608e+00 -1.516781e+00\n",
       "25%    6.818471e-02            -2.574130e-01 -6.835142e-01\n",
       "50%    1.166552e-01            -2.283479e-01 -1.897838e-01\n",
       "75%    2.264265e-01            -3.463149e-02  8.606468e-01\n",
       "max    1.766076e+00             2.504278e+00  1.973190e+00"
      ]
     },
     "execution_count": 12,
     "metadata": {},
     "output_type": "execute_result"
    }
   ],
   "source": [
    "feats = ['DER','Operating Profit Margin','Sales Growth']\n",
    "X = df1[feats].values\n",
    "y = df1['Category'].values\n",
    "\n",
    "from sklearn.preprocessing import StandardScaler\n",
    "X_std = StandardScaler().fit_transform(X)\n",
    "new_df = pd.DataFrame(data = X_std, columns = feats)\n",
    "new_df.describe()"
   ]
  },
  {
   "cell_type": "code",
   "execution_count": 13,
   "id": "9939cbf7",
   "metadata": {
    "execution": {
     "iopub.execute_input": "2022-04-20T20:24:16.175851Z",
     "iopub.status.busy": "2022-04-20T20:24:16.175410Z",
     "iopub.status.idle": "2022-04-20T20:24:16.467068Z",
     "shell.execute_reply": "2022-04-20T20:24:16.466111Z"
    },
    "papermill": {
     "duration": 0.341524,
     "end_time": "2022-04-20T20:24:16.469548",
     "exception": false,
     "start_time": "2022-04-20T20:24:16.128024",
     "status": "completed"
    },
    "tags": []
   },
   "outputs": [],
   "source": [
    "from sklearn.cluster import KMeans\n",
    "wcss=[]"
   ]
  },
  {
   "cell_type": "code",
   "execution_count": 14,
   "id": "ac370f72",
   "metadata": {
    "execution": {
     "iopub.execute_input": "2022-04-20T20:24:16.566913Z",
     "iopub.status.busy": "2022-04-20T20:24:16.566611Z",
     "iopub.status.idle": "2022-04-20T20:24:16.572200Z",
     "shell.execute_reply": "2022-04-20T20:24:16.571360Z"
    },
    "papermill": {
     "duration": 0.055167,
     "end_time": "2022-04-20T20:24:16.574275",
     "exception": false,
     "start_time": "2022-04-20T20:24:16.519108",
     "status": "completed"
    },
    "tags": []
   },
   "outputs": [
    {
     "data": {
      "text/plain": [
       "(31, 6)"
      ]
     },
     "execution_count": 14,
     "metadata": {},
     "output_type": "execute_result"
    }
   ],
   "source": [
    "df0.shape"
   ]
  },
  {
   "cell_type": "code",
   "execution_count": 15,
   "id": "7e5b8b3b",
   "metadata": {
    "execution": {
     "iopub.execute_input": "2022-04-20T20:24:16.670541Z",
     "iopub.status.busy": "2022-04-20T20:24:16.670243Z",
     "iopub.status.idle": "2022-04-20T20:24:17.231721Z",
     "shell.execute_reply": "2022-04-20T20:24:17.230755Z"
    },
    "papermill": {
     "duration": 0.611595,
     "end_time": "2022-04-20T20:24:17.233957",
     "exception": false,
     "start_time": "2022-04-20T20:24:16.622362",
     "status": "completed"
    },
    "tags": []
   },
   "outputs": [
    {
     "data": {
      "text/plain": [
       "[<matplotlib.lines.Line2D at 0x7fa95f70d510>]"
      ]
     },
     "execution_count": 15,
     "metadata": {},
     "output_type": "execute_result"
    },
    {
     "data": {
      "image/png": "[encoded data removed]",
      "text/plain": [
       "<Figure size 864x432 with 1 Axes>"
      ]
     },
     "metadata": {
      "needs_background": "light"
     },
     "output_type": "display_data"
    }
   ],
   "source": [
    "from sklearn.cluster import KMeans\n",
    "inertia = []\n",
    "\n",
    "for i in range(1, 11):\n",
    "  kmeans = KMeans(n_clusters=i, init='k-means++', max_iter=300, n_init=10, random_state=0)\n",
    "  kmeans.fit(new_df.values)\n",
    "  inertia.append(kmeans.inertia_)\n",
    "\n",
    "plt.figure(figsize=(12, 6))\n",
    "plt.plot(inertia) #Elbow Method"
   ]
  },
  {
   "cell_type": "code",
   "execution_count": 16,
   "id": "eee20406",
   "metadata": {
    "execution": {
     "iopub.execute_input": "2022-04-20T20:24:17.331812Z",
     "iopub.status.busy": "2022-04-20T20:24:17.331013Z",
     "iopub.status.idle": "2022-04-20T20:24:17.357036Z",
     "shell.execute_reply": "2022-04-20T20:24:17.356255Z"
    },
    "papermill": {
     "duration": 0.077483,
     "end_time": "2022-04-20T20:24:17.359190",
     "exception": false,
     "start_time": "2022-04-20T20:24:17.281707",
     "status": "completed"
    },
    "tags": []
   },
   "outputs": [
    {
     "data": {
      "text/plain": [
       "KMeans(n_clusters=3, random_state=0)"
      ]
     },
     "execution_count": 16,
     "metadata": {},
     "output_type": "execute_result"
    }
   ],
   "source": [
    "from sklearn.cluster import KMeans\n",
    "kmeans = KMeans(n_clusters=3, init='k-means++', max_iter=300, n_init=10, random_state=0)\n",
    "kmeans.fit(new_df.values)"
   ]
  },
  {
   "cell_type": "code",
   "execution_count": 17,
   "id": "331f2582",
   "metadata": {
    "execution": {
     "iopub.execute_input": "2022-04-20T20:24:17.460068Z",
     "iopub.status.busy": "2022-04-20T20:24:17.459778Z",
     "iopub.status.idle": "2022-04-20T20:24:17.466277Z",
     "shell.execute_reply": "2022-04-20T20:24:17.465295Z"
    },
    "papermill": {
     "duration": 0.057646,
     "end_time": "2022-04-20T20:24:17.468333",
     "exception": false,
     "start_time": "2022-04-20T20:24:17.410687",
     "status": "completed"
    },
    "tags": []
   },
   "outputs": [],
   "source": [
    "new_df['target'] = y\n",
    "new_df['fit'] = kmeans.labels_"
   ]
  },
  {
   "cell_type": "code",
   "execution_count": 18,
   "id": "1855f665",
   "metadata": {
    "execution": {
     "iopub.execute_input": "2022-04-20T20:24:17.566732Z",
     "iopub.status.busy": "2022-04-20T20:24:17.566152Z",
     "iopub.status.idle": "2022-04-20T20:24:17.788267Z",
     "shell.execute_reply": "2022-04-20T20:24:17.787223Z"
    },
    "papermill": {
     "duration": 0.2738,
     "end_time": "2022-04-20T20:24:17.790565",
     "exception": false,
     "start_time": "2022-04-20T20:24:17.516765",
     "status": "completed"
    },
    "tags": []
   },
   "outputs": [
    {
     "data": {
      "image/png": "[encoded data removed]",
      "text/plain": [
       "<Figure size 576x576 with 1 Axes>"
      ]
     },
     "metadata": {
      "needs_background": "light"
     },
     "output_type": "display_data"
    }
   ],
   "source": [
    "plt.rcParams[\"figure.figsize\"] = (8, 8)\n",
    "sns.scatterplot(x='DER', y='Operating Profit Margin', hue=new_df.target.to_list(), data=new_df);"
   ]
  },
  {
   "cell_type": "code",
   "execution_count": 19,
   "id": "4f8cde67",
   "metadata": {
    "execution": {
     "iopub.execute_input": "2022-04-20T20:24:17.892107Z",
     "iopub.status.busy": "2022-04-20T20:24:17.891120Z",
     "iopub.status.idle": "2022-04-20T20:24:17.904118Z",
     "shell.execute_reply": "2022-04-20T20:24:17.903294Z"
    },
    "papermill": {
     "duration": 0.065215,
     "end_time": "2022-04-20T20:24:17.906127",
     "exception": false,
     "start_time": "2022-04-20T20:24:17.840912",
     "status": "completed"
    },
    "tags": []
   },
   "outputs": [
    {
     "data": {
      "text/html": [
       "<div>\n",
       "<style scoped>\n",
       "    .dataframe tbody tr th:only-of-type {\n",
       "        vertical-align: middle;\n",
       "    }\n",
       "\n",
       "    .dataframe tbody tr th {\n",
       "        vertical-align: top;\n",
       "    }\n",
       "\n",
       "    .dataframe thead th {\n",
       "        text-align: right;\n",
       "    }\n",
       "</style>\n",
       "<table border=\"1\" class=\"dataframe\">\n",
       "  <thead>\n",
       "    <tr style=\"text-align: right;\">\n",
       "      <th></th>\n",
       "      <th>DER</th>\n",
       "      <th>Operating Profit Margin</th>\n",
       "      <th>Sales Growth</th>\n",
       "      <th>target</th>\n",
       "      <th>fit</th>\n",
       "    </tr>\n",
       "  </thead>\n",
       "  <tbody>\n",
       "    <tr>\n",
       "      <th>0</th>\n",
       "      <td>0.116655</td>\n",
       "      <td>-0.197743</td>\n",
       "      <td>0.605543</td>\n",
       "      <td>NaN</td>\n",
       "      <td>1</td>\n",
       "    </tr>\n",
       "    <tr>\n",
       "      <th>1</th>\n",
       "      <td>0.264918</td>\n",
       "      <td>0.127873</td>\n",
       "      <td>-0.258399</td>\n",
       "      <td>NaN</td>\n",
       "      <td>0</td>\n",
       "    </tr>\n",
       "    <tr>\n",
       "      <th>2</th>\n",
       "      <td>1.298479</td>\n",
       "      <td>-0.121373</td>\n",
       "      <td>-1.420220</td>\n",
       "      <td>NaN</td>\n",
       "      <td>0</td>\n",
       "    </tr>\n",
       "    <tr>\n",
       "      <th>3</th>\n",
       "      <td>-0.750110</td>\n",
       "      <td>-0.531035</td>\n",
       "      <td>-0.683514</td>\n",
       "      <td>NaN</td>\n",
       "      <td>0</td>\n",
       "    </tr>\n",
       "    <tr>\n",
       "      <th>4</th>\n",
       "      <td>0.226426</td>\n",
       "      <td>2.154409</td>\n",
       "      <td>-0.442462</td>\n",
       "      <td>NaN</td>\n",
       "      <td>0</td>\n",
       "    </tr>\n",
       "  </tbody>\n",
       "</table>\n",
       "</div>"
      ],
      "text/plain": [
       "        DER  Operating Profit Margin  Sales Growth  target  fit\n",
       "0  0.116655                -0.197743      0.605543     NaN    1\n",
       "1  0.264918                 0.127873     -0.258399     NaN    0\n",
       "2  1.298479                -0.121373     -1.420220     NaN    0\n",
       "3 -0.750110                -0.531035     -0.683514     NaN    0\n",
       "4  0.226426                 2.154409     -0.442462     NaN    0"
      ]
     },
     "execution_count": 19,
     "metadata": {},
     "output_type": "execute_result"
    }
   ],
   "source": [
    "new_df.head(5)"
   ]
  },
  {
   "cell_type": "code",
   "execution_count": 20,
   "id": "2bc17fca",
   "metadata": {
    "execution": {
     "iopub.execute_input": "2022-04-20T20:24:18.008182Z",
     "iopub.status.busy": "2022-04-20T20:24:18.007752Z",
     "iopub.status.idle": "2022-04-20T20:24:18.028558Z",
     "shell.execute_reply": "2022-04-20T20:24:18.027605Z"
    },
    "papermill": {
     "duration": 0.074209,
     "end_time": "2022-04-20T20:24:18.030710",
     "exception": false,
     "start_time": "2022-04-20T20:24:17.956501",
     "status": "completed"
    },
    "tags": []
   },
   "outputs": [
    {
     "data": {
      "text/html": [
       "<div>\n",
       "<style scoped>\n",
       "    .dataframe tbody tr th:only-of-type {\n",
       "        vertical-align: middle;\n",
       "    }\n",
       "\n",
       "    .dataframe tbody tr th {\n",
       "        vertical-align: top;\n",
       "    }\n",
       "\n",
       "    .dataframe thead th {\n",
       "        text-align: right;\n",
       "    }\n",
       "</style>\n",
       "<table border=\"1\" class=\"dataframe\">\n",
       "  <thead>\n",
       "    <tr style=\"text-align: right;\">\n",
       "      <th></th>\n",
       "      <th>Category</th>\n",
       "      <th>DER</th>\n",
       "      <th>Operating Profit Margin</th>\n",
       "      <th>Sales Growth</th>\n",
       "      <th>target</th>\n",
       "      <th>fit</th>\n",
       "    </tr>\n",
       "  </thead>\n",
       "  <tbody>\n",
       "    <tr>\n",
       "      <th>0</th>\n",
       "      <td>4</td>\n",
       "      <td>0.116655</td>\n",
       "      <td>-0.197743</td>\n",
       "      <td>0.605543</td>\n",
       "      <td>NaN</td>\n",
       "      <td>1</td>\n",
       "    </tr>\n",
       "    <tr>\n",
       "      <th>1</th>\n",
       "      <td>2</td>\n",
       "      <td>0.264918</td>\n",
       "      <td>0.127873</td>\n",
       "      <td>-0.258399</td>\n",
       "      <td>NaN</td>\n",
       "      <td>0</td>\n",
       "    </tr>\n",
       "    <tr>\n",
       "      <th>2</th>\n",
       "      <td>2</td>\n",
       "      <td>1.298479</td>\n",
       "      <td>-0.121373</td>\n",
       "      <td>-1.420220</td>\n",
       "      <td>NaN</td>\n",
       "      <td>0</td>\n",
       "    </tr>\n",
       "    <tr>\n",
       "      <th>3</th>\n",
       "      <td>2</td>\n",
       "      <td>-0.750110</td>\n",
       "      <td>-0.531035</td>\n",
       "      <td>-0.683514</td>\n",
       "      <td>NaN</td>\n",
       "      <td>0</td>\n",
       "    </tr>\n",
       "    <tr>\n",
       "      <th>4</th>\n",
       "      <td>2</td>\n",
       "      <td>0.226426</td>\n",
       "      <td>2.154409</td>\n",
       "      <td>-0.442462</td>\n",
       "      <td>NaN</td>\n",
       "      <td>0</td>\n",
       "    </tr>\n",
       "    <tr>\n",
       "      <th>5</th>\n",
       "      <td>1</td>\n",
       "      <td>-3.718212</td>\n",
       "      <td>-1.247196</td>\n",
       "      <td>-1.516781</td>\n",
       "      <td>NaN</td>\n",
       "      <td>2</td>\n",
       "    </tr>\n",
       "  </tbody>\n",
       "</table>\n",
       "</div>"
      ],
      "text/plain": [
       "   Category       DER  Operating Profit Margin  Sales Growth  target  fit\n",
       "0         4  0.116655                -0.197743      0.605543     NaN    1\n",
       "1         2  0.264918                 0.127873     -0.258399     NaN    0\n",
       "2         2  1.298479                -0.121373     -1.420220     NaN    0\n",
       "3         2 -0.750110                -0.531035     -0.683514     NaN    0\n",
       "4         2  0.226426                 2.154409     -0.442462     NaN    0\n",
       "5         1 -3.718212                -1.247196     -1.516781     NaN    2"
      ]
     },
     "execution_count": 20,
     "metadata": {},
     "output_type": "execute_result"
    }
   ],
   "source": [
    "new_df.insert(0,\"Category\",np.nan,True)\n",
    "new_df.loc[new_df['fit'] == 0, 'Category'] = 2\n",
    "new_df.loc[new_df['fit'] == 1, 'Category'] = 4\n",
    "new_df.loc[new_df['fit'] == 2, 'Category'] = 1\n",
    "new_df.loc[new_df['fit'] == 3, 'Category'] = 0\n",
    "new_df.loc[new_df['fit'] == 4, 'Category'] = 3\n",
    "new_df['Category'] = new_df['Category'].astype(int)\n",
    "new_df.head(6)"
   ]
  },
  {
   "cell_type": "code",
   "execution_count": 21,
   "id": "1eecc77c",
   "metadata": {
    "execution": {
     "iopub.execute_input": "2022-04-20T20:24:18.134032Z",
     "iopub.status.busy": "2022-04-20T20:24:18.133748Z",
     "iopub.status.idle": "2022-04-20T20:24:18.149026Z",
     "shell.execute_reply": "2022-04-20T20:24:18.147372Z"
    },
    "papermill": {
     "duration": 0.069994,
     "end_time": "2022-04-20T20:24:18.151901",
     "exception": false,
     "start_time": "2022-04-20T20:24:18.081907",
     "status": "completed"
    },
    "tags": []
   },
   "outputs": [
    {
     "name": "stdout",
     "output_type": "stream",
     "text": [
      "<class 'pandas.core.frame.DataFrame'>\n",
      "RangeIndex: 29 entries, 0 to 28\n",
      "Data columns (total 4 columns):\n",
      " #   Column                         Non-Null Count  Dtype  \n",
      "---  ------                         --------------  -----  \n",
      " 0   Category                       29 non-null     int64  \n",
      " 1   DER (St.)                      29 non-null     float64\n",
      " 2   Operating Profit Margin (St.)  29 non-null     float64\n",
      " 3   Sales Growth (St.)             29 non-null     float64\n",
      "dtypes: float64(3), int64(1)\n",
      "memory usage: 1.0 KB\n"
     ]
    }
   ],
   "source": [
    "new_df.drop([\"fit\",\"target\"], axis=1, inplace=True)\n",
    "new_df.columns = ['Category','DER (St.)','Operating Profit Margin (St.)', 'Sales Growth (St.)']\n",
    "new_df.info()"
   ]
  },
  {
   "cell_type": "code",
   "execution_count": 22,
   "id": "9171c6e0",
   "metadata": {
    "execution": {
     "iopub.execute_input": "2022-04-20T20:24:18.257104Z",
     "iopub.status.busy": "2022-04-20T20:24:18.256605Z",
     "iopub.status.idle": "2022-04-20T20:24:18.778212Z",
     "shell.execute_reply": "2022-04-20T20:24:18.777201Z"
    },
    "papermill": {
     "duration": 0.577103,
     "end_time": "2022-04-20T20:24:18.781196",
     "exception": false,
     "start_time": "2022-04-20T20:24:18.204093",
     "status": "completed"
    },
    "tags": []
   },
   "outputs": [
    {
     "data": {
      "image/png": "[encoded data removed]",
      "text/plain": [
       "<Figure size 576x576 with 1 Axes>"
      ]
     },
     "metadata": {
      "needs_background": "light"
     },
     "output_type": "display_data"
    }
   ],
   "source": [
    "from mpl_toolkits.mplot3d import Axes3D\n",
    "\n",
    "fig = plt.figure()\n",
    "ax = fig.add_subplot(111, projection = '3d')\n",
    "\n",
    "\n",
    "x = new_df['DER (St.)']\n",
    "y = new_df['Operating Profit Margin (St.)']\n",
    "z = new_df['Sales Growth (St.)']\n",
    "\n",
    "ax.set_xlabel(\"DER (St.)\")\n",
    "ax.set_ylabel(\"Operating Profit Margin (St.)\")\n",
    "ax.set_zlabel(\"Sales Growth (St.)\")\n",
    "\n",
    "cmap = ListedColormap(sns.color_palette(\"RdYlGn\", 256).as_hex())\n",
    "\n",
    "sc = ax.scatter(x, y, z, s=40, c=new_df['Category'], marker='o', cmap=cmap, alpha=1)\n",
    "plt.legend(*sc.legend_elements(), bbox_to_anchor=(1.05, 1), loc=2)\n",
    "\n",
    "plt.show()"
   ]
  },
  {
   "cell_type": "code",
   "execution_count": 23,
   "id": "a95b7223",
   "metadata": {
    "execution": {
     "iopub.execute_input": "2022-04-20T20:24:18.888871Z",
     "iopub.status.busy": "2022-04-20T20:24:18.888588Z",
     "iopub.status.idle": "2022-04-20T20:24:19.234845Z",
     "shell.execute_reply": "2022-04-20T20:24:19.234142Z"
    },
    "papermill": {
     "duration": 0.402573,
     "end_time": "2022-04-20T20:24:19.236866",
     "exception": false,
     "start_time": "2022-04-20T20:24:18.834293",
     "status": "completed"
    },
    "tags": []
   },
   "outputs": [
    {
     "data": {
      "text/plain": [
       "Text(0.5, 1.05, 'DER vs Sales Growth (Standardisasi)')"
      ]
     },
     "execution_count": 23,
     "metadata": {},
     "output_type": "execute_result"
    },
    {
     "data": {
      "image/png": "[encoded data removed]",
      "text/plain": [
       "<Figure size 576x576 with 1 Axes>"
      ]
     },
     "metadata": {
      "needs_background": "light"
     },
     "output_type": "display_data"
    }
   ],
   "source": [
    "# color palette as dictionary\n",
    "palette = {0:\"tab:red\",\n",
    "           1:\"tab:orange\", \n",
    "           2:\"yellow\",\n",
    "           3:\"lime\",\n",
    "           4:\"darkgreen\"}\n",
    "\n",
    "sns.scatterplot(x='DER (St.)', y='Sales Growth (St.)', \n",
    "                hue='Category', data=new_df, s=80,\n",
    "                palette=palette)\n",
    "plt.title(\"DER vs Sales Growth (Standardisasi)\", fontsize=18, y=1.05)"
   ]
  },
  {
   "cell_type": "code",
   "execution_count": 24,
   "id": "1964f537",
   "metadata": {
    "execution": {
     "iopub.execute_input": "2022-04-20T20:24:19.349898Z",
     "iopub.status.busy": "2022-04-20T20:24:19.349364Z",
     "iopub.status.idle": "2022-04-20T20:24:19.664002Z",
     "shell.execute_reply": "2022-04-20T20:24:19.663128Z"
    },
    "papermill": {
     "duration": 0.372787,
     "end_time": "2022-04-20T20:24:19.665979",
     "exception": false,
     "start_time": "2022-04-20T20:24:19.293192",
     "status": "completed"
    },
    "tags": []
   },
   "outputs": [
    {
     "data": {
      "image/png": "[encoded data removed]",
      "text/plain": [
       "<Figure size 576x576 with 1 Axes>"
      ]
     },
     "metadata": {
      "needs_background": "light"
     },
     "output_type": "display_data"
    }
   ],
   "source": [
    "sns.scatterplot(x='Operating Profit Margin (St.)', y='Sales Growth (St.)', \n",
    "                hue='Category', data=new_df, s=80,\n",
    "                palette=palette)\n",
    "plt.title(\"Operating Profit Margin vs Sales Growth (Standardisasi)\", fontsize=18, y=1.05)\n",
    "plt.show()"
   ]
  },
  {
   "cell_type": "code",
   "execution_count": 25,
   "id": "ed5da579",
   "metadata": {
    "execution": {
     "iopub.execute_input": "2022-04-20T20:24:19.780154Z",
     "iopub.status.busy": "2022-04-20T20:24:19.779844Z",
     "iopub.status.idle": "2022-04-20T20:24:20.060243Z",
     "shell.execute_reply": "2022-04-20T20:24:20.059371Z"
    },
    "papermill": {
     "duration": 0.340452,
     "end_time": "2022-04-20T20:24:20.062631",
     "exception": false,
     "start_time": "2022-04-20T20:24:19.722179",
     "status": "completed"
    },
    "tags": []
   },
   "outputs": [
    {
     "data": {
      "image/png": "[encoded data removed]",
      "text/plain": [
       "<Figure size 576x576 with 1 Axes>"
      ]
     },
     "metadata": {
      "needs_background": "light"
     },
     "output_type": "display_data"
    }
   ],
   "source": [
    "sns.scatterplot(x='DER (St.)', y='Operating Profit Margin (St.)', \n",
    "                hue='Category', data=new_df, s=80,\n",
    "                palette=palette)\n",
    "plt.title(\"DER vs Operating Profit Margin (Standardisasi)\", fontsize=18, y=1.05)\n",
    "plt.show()"
   ]
  },
  {
   "cell_type": "code",
   "execution_count": 26,
   "id": "5e1e1b74",
   "metadata": {
    "execution": {
     "iopub.execute_input": "2022-04-20T20:24:20.179447Z",
     "iopub.status.busy": "2022-04-20T20:24:20.178511Z",
     "iopub.status.idle": "2022-04-20T20:24:20.187102Z",
     "shell.execute_reply": "2022-04-20T20:24:20.186420Z"
    },
    "papermill": {
     "duration": 0.069142,
     "end_time": "2022-04-20T20:24:20.189307",
     "exception": false,
     "start_time": "2022-04-20T20:24:20.120165",
     "status": "completed"
    },
    "tags": []
   },
   "outputs": [],
   "source": [
    "# drop these row indexes\n",
    "# from dataFrame\n",
    "index_names = df0[ df0['Emitten'] == 'ARTO' ].index\n",
    "df0.drop(index_names, inplace = True)\n",
    "df0.reset_index(drop=True, inplace=True)\n",
    "df0.drop([\"Category\"\n",
    "         ], axis=1, inplace=True)"
   ]
  },
  {
   "cell_type": "code",
   "execution_count": 27,
   "id": "5aebd392",
   "metadata": {
    "execution": {
     "iopub.execute_input": "2022-04-20T20:24:20.306023Z",
     "iopub.status.busy": "2022-04-20T20:24:20.305193Z",
     "iopub.status.idle": "2022-04-20T20:24:20.339258Z",
     "shell.execute_reply": "2022-04-20T20:24:20.338671Z"
    },
    "papermill": {
     "duration": 0.094893,
     "end_time": "2022-04-20T20:24:20.341515",
     "exception": false,
     "start_time": "2022-04-20T20:24:20.246622",
     "status": "completed"
    },
    "tags": []
   },
   "outputs": [
    {
     "data": {
      "text/html": [
       "<div>\n",
       "<style scoped>\n",
       "    .dataframe tbody tr th:only-of-type {\n",
       "        vertical-align: middle;\n",
       "    }\n",
       "\n",
       "    .dataframe tbody tr th {\n",
       "        vertical-align: top;\n",
       "    }\n",
       "\n",
       "    .dataframe thead th {\n",
       "        text-align: right;\n",
       "    }\n",
       "</style>\n",
       "<table border=\"1\" class=\"dataframe\">\n",
       "  <thead>\n",
       "    <tr style=\"text-align: right;\">\n",
       "      <th></th>\n",
       "      <th>Emiten Pertambangan</th>\n",
       "      <th>Category</th>\n",
       "      <th>DER (St.)</th>\n",
       "      <th>Operating Profit Margin (St.)</th>\n",
       "      <th>Sales Growth (St.)</th>\n",
       "      <th>Emitten</th>\n",
       "      <th>DER</th>\n",
       "      <th>Operating Profit Margin</th>\n",
       "      <th>Return On Asset</th>\n",
       "      <th>Sales Growth</th>\n",
       "    </tr>\n",
       "  </thead>\n",
       "  <tbody>\n",
       "    <tr>\n",
       "      <th>0</th>\n",
       "      <td>Adaro Energy Tbk. (ADOOY)</td>\n",
       "      <td>4.0</td>\n",
       "      <td>0.116655</td>\n",
       "      <td>-0.197743</td>\n",
       "      <td>0.605543</td>\n",
       "      <td>ADRO</td>\n",
       "      <td>0.65</td>\n",
       "      <td>6.663</td>\n",
       "      <td>0.060000</td>\n",
       "      <td>0.575136</td>\n",
       "    </tr>\n",
       "    <tr>\n",
       "      <th>1</th>\n",
       "      <td>Atlas Resources Tbk. (ARII.JK)</td>\n",
       "      <td>2.0</td>\n",
       "      <td>0.264918</td>\n",
       "      <td>0.127873</td>\n",
       "      <td>-0.258399</td>\n",
       "      <td>APEX</td>\n",
       "      <td>1.69</td>\n",
       "      <td>42.550</td>\n",
       "      <td>0.180000</td>\n",
       "      <td>0.189673</td>\n",
       "    </tr>\n",
       "    <tr>\n",
       "      <th>2</th>\n",
       "      <td>Borneo Olah Sarana Sukses Tbk (BOOSJ.K)</td>\n",
       "      <td>2.0</td>\n",
       "      <td>1.298479</td>\n",
       "      <td>-0.121373</td>\n",
       "      <td>-1.420220</td>\n",
       "      <td>ARII</td>\n",
       "      <td>8.94</td>\n",
       "      <td>15.080</td>\n",
       "      <td>-0.038650</td>\n",
       "      <td>-0.328694</td>\n",
       "    </tr>\n",
       "    <tr>\n",
       "      <th>3</th>\n",
       "      <td>Bumi Resources Minerals Tbk. (BRMS.JK)</td>\n",
       "      <td>2.0</td>\n",
       "      <td>-0.750110</td>\n",
       "      <td>-0.531035</td>\n",
       "      <td>-0.683514</td>\n",
       "      <td>ARTI</td>\n",
       "      <td>-5.43</td>\n",
       "      <td>-30.070</td>\n",
       "      <td>-1.190000</td>\n",
       "      <td>0.000000</td>\n",
       "    </tr>\n",
       "    <tr>\n",
       "      <th>4</th>\n",
       "      <td>Baramulti Suksessarana Tbk (BSSR.JK)</td>\n",
       "      <td>2.0</td>\n",
       "      <td>0.226426</td>\n",
       "      <td>2.154409</td>\n",
       "      <td>-0.442462</td>\n",
       "      <td>BIPI</td>\n",
       "      <td>1.42</td>\n",
       "      <td>265.900</td>\n",
       "      <td>0.010000</td>\n",
       "      <td>0.107550</td>\n",
       "    </tr>\n",
       "    <tr>\n",
       "      <th>5</th>\n",
       "      <td>Bumi Resources Tbk. (BUMI.JK)</td>\n",
       "      <td>1.0</td>\n",
       "      <td>-3.718212</td>\n",
       "      <td>-1.247196</td>\n",
       "      <td>-1.516781</td>\n",
       "      <td>BOSS</td>\n",
       "      <td>-26.25</td>\n",
       "      <td>-109.000</td>\n",
       "      <td>-0.300000</td>\n",
       "      <td>-0.371777</td>\n",
       "    </tr>\n",
       "    <tr>\n",
       "      <th>6</th>\n",
       "      <td>Darma Henwa Tbk (DEWA.JK)</td>\n",
       "      <td>4.0</td>\n",
       "      <td>0.106676</td>\n",
       "      <td>-0.244725</td>\n",
       "      <td>1.750136</td>\n",
       "      <td>BSSR</td>\n",
       "      <td>0.58</td>\n",
       "      <td>1.485</td>\n",
       "      <td>0.410000</td>\n",
       "      <td>1.085816</td>\n",
       "    </tr>\n",
       "    <tr>\n",
       "      <th>7</th>\n",
       "      <td>Delta Dunia Makmur Tbk (DOID.JK)</td>\n",
       "      <td>4.0</td>\n",
       "      <td>1.766076</td>\n",
       "      <td>-0.248944</td>\n",
       "      <td>0.905574</td>\n",
       "      <td>BUMI</td>\n",
       "      <td>12.22</td>\n",
       "      <td>1.020</td>\n",
       "      <td>0.020000</td>\n",
       "      <td>0.709000</td>\n",
       "    </tr>\n",
       "    <tr>\n",
       "      <th>8</th>\n",
       "      <td>Alfa Energi Investama Tbk. (FIRE.JK)</td>\n",
       "      <td>4.0</td>\n",
       "      <td>0.090994</td>\n",
       "      <td>-0.169825</td>\n",
       "      <td>1.657391</td>\n",
       "      <td>BYAN</td>\n",
       "      <td>0.47</td>\n",
       "      <td>9.740</td>\n",
       "      <td>0.460000</td>\n",
       "      <td>1.044437</td>\n",
       "    </tr>\n",
       "    <tr>\n",
       "      <th>9</th>\n",
       "      <td>Golden Energy Mines Tbk. (GEMS.JK)</td>\n",
       "      <td>2.0</td>\n",
       "      <td>0.182233</td>\n",
       "      <td>-0.034631</td>\n",
       "      <td>-0.953085</td>\n",
       "      <td>DEWA</td>\n",
       "      <td>1.11</td>\n",
       "      <td>24.640</td>\n",
       "      <td>-0.120227</td>\n",
       "      <td>-0.120274</td>\n",
       "    </tr>\n",
       "  </tbody>\n",
       "</table>\n",
       "</div>"
      ],
      "text/plain": [
       "                      Emiten Pertambangan   Category  DER (St.)  \\\n",
       "0                Adaro Energy Tbk. (ADOOY)       4.0   0.116655   \n",
       "1           Atlas Resources Tbk. (ARII.JK)       2.0   0.264918   \n",
       "2  Borneo Olah Sarana Sukses Tbk (BOOSJ.K)       2.0   1.298479   \n",
       "3   Bumi Resources Minerals Tbk. (BRMS.JK)       2.0  -0.750110   \n",
       "4     Baramulti Suksessarana Tbk (BSSR.JK)       2.0   0.226426   \n",
       "5            Bumi Resources Tbk. (BUMI.JK)       1.0  -3.718212   \n",
       "6                Darma Henwa Tbk (DEWA.JK)       4.0   0.106676   \n",
       "7         Delta Dunia Makmur Tbk (DOID.JK)       4.0   1.766076   \n",
       "8     Alfa Energi Investama Tbk. (FIRE.JK)       4.0   0.090994   \n",
       "9       Golden Energy Mines Tbk. (GEMS.JK)       2.0   0.182233   \n",
       "\n",
       "   Operating Profit Margin (St.)  Sales Growth (St.) Emitten    DER  \\\n",
       "0                      -0.197743            0.605543    ADRO   0.65   \n",
       "1                       0.127873           -0.258399    APEX   1.69   \n",
       "2                      -0.121373           -1.420220    ARII   8.94   \n",
       "3                      -0.531035           -0.683514    ARTI  -5.43   \n",
       "4                       2.154409           -0.442462    BIPI   1.42   \n",
       "5                      -1.247196           -1.516781    BOSS -26.25   \n",
       "6                      -0.244725            1.750136    BSSR   0.58   \n",
       "7                      -0.248944            0.905574    BUMI  12.22   \n",
       "8                      -0.169825            1.657391    BYAN   0.47   \n",
       "9                      -0.034631           -0.953085    DEWA   1.11   \n",
       "\n",
       "   Operating Profit Margin  Return On Asset  Sales Growth  \n",
       "0                    6.663         0.060000      0.575136  \n",
       "1                   42.550         0.180000      0.189673  \n",
       "2                   15.080        -0.038650     -0.328694  \n",
       "3                  -30.070        -1.190000      0.000000  \n",
       "4                  265.900         0.010000      0.107550  \n",
       "5                 -109.000        -0.300000     -0.371777  \n",
       "6                    1.485         0.410000      1.085816  \n",
       "7                    1.020         0.020000      0.709000  \n",
       "8                    9.740         0.460000      1.044437  \n",
       "9                   24.640        -0.120227     -0.120274  "
      ]
     },
     "execution_count": 27,
     "metadata": {},
     "output_type": "execute_result"
    }
   ],
   "source": [
    "dftemp = pd.read_csv('../input/pertambangandata/emittenpertambangan.csv')\n",
    "df = pd.concat([dftemp, new_df, df0], axis=1)\n",
    "df.head(10)"
   ]
  },
  {
   "cell_type": "code",
   "execution_count": 28,
   "id": "31bb6491",
   "metadata": {
    "execution": {
     "iopub.execute_input": "2022-04-20T20:24:20.459181Z",
     "iopub.status.busy": "2022-04-20T20:24:20.458762Z",
     "iopub.status.idle": "2022-04-20T20:24:20.466967Z",
     "shell.execute_reply": "2022-04-20T20:24:20.466323Z"
    },
    "papermill": {
     "duration": 0.069665,
     "end_time": "2022-04-20T20:24:20.469189",
     "exception": false,
     "start_time": "2022-04-20T20:24:20.399524",
     "status": "completed"
    },
    "tags": []
   },
   "outputs": [],
   "source": [
    "df.to_csv('result.csv', index = False)"
   ]
  },
  {
   "cell_type": "code",
   "execution_count": 29,
   "id": "45b191ee",
   "metadata": {
    "execution": {
     "iopub.execute_input": "2022-04-20T20:24:20.590310Z",
     "iopub.status.busy": "2022-04-20T20:24:20.589869Z",
     "iopub.status.idle": "2022-04-20T20:24:20.596516Z",
     "shell.execute_reply": "2022-04-20T20:24:20.595398Z"
    },
    "papermill": {
     "duration": 0.070505,
     "end_time": "2022-04-20T20:24:20.598647",
     "exception": false,
     "start_time": "2022-04-20T20:24:20.528142",
     "status": "completed"
    },
    "tags": []
   },
   "outputs": [
    {
     "data": {
      "text/plain": [
       "array([[ 0.23518372,  0.31679685, -0.7251155 ],\n",
       "       [ 0.25614109, -0.21322882,  0.96926911],\n",
       "       [-3.31120307, -0.83159066, -1.22444069]])"
      ]
     },
     "execution_count": 29,
     "metadata": {},
     "output_type": "execute_result"
    }
   ],
   "source": [
    "kmeans.cluster_centers_"
   ]
  },
  {
   "cell_type": "code",
   "execution_count": 30,
   "id": "af73cb6c",
   "metadata": {
    "execution": {
     "iopub.execute_input": "2022-04-20T20:24:20.718295Z",
     "iopub.status.busy": "2022-04-20T20:24:20.718018Z",
     "iopub.status.idle": "2022-04-20T20:24:20.950608Z",
     "shell.execute_reply": "2022-04-20T20:24:20.949482Z"
    },
    "papermill": {
     "duration": 0.294604,
     "end_time": "2022-04-20T20:24:20.953111",
     "exception": false,
     "start_time": "2022-04-20T20:24:20.658507",
     "status": "completed"
    },
    "tags": []
   },
   "outputs": [
    {
     "data": {
      "image/png": "[encoded data removed]",
      "text/plain": [
       "<Figure size 576x576 with 1 Axes>"
      ]
     },
     "metadata": {
      "needs_background": "light"
     },
     "output_type": "display_data"
    }
   ],
   "source": [
    "from mpl_toolkits.mplot3d import Axes3D\n",
    "\n",
    "fig = plt.figure()\n",
    "ax = fig.add_subplot(111, projection = '3d')\n",
    "x = [-1.0747699 ,  1.60761561,  1.45000206]\n",
    "y = [ 1.25270712, -0.73415244, -1.22811141]\n",
    "z = [-0.47688144, -0.04643691,  0.33540692]\n",
    "\n",
    "ax.set_xlabel(\"DER (St.)\")\n",
    "ax.set_ylabel(\"Operating Profit Margin (St.)\")\n",
    "ax.set_zlabel(\"Sales Growth (St.)\")\n",
    "ax.scatter(x, y, z)\n",
    "plt.show()"
   ]
  },
  {
   "cell_type": "code",
   "execution_count": 31,
   "id": "c635059d",
   "metadata": {
    "execution": {
     "iopub.execute_input": "2022-04-20T20:24:21.076590Z",
     "iopub.status.busy": "2022-04-20T20:24:21.076302Z",
     "iopub.status.idle": "2022-04-20T20:24:21.110473Z",
     "shell.execute_reply": "2022-04-20T20:24:21.109817Z"
    },
    "papermill": {
     "duration": 0.098533,
     "end_time": "2022-04-20T20:24:21.112354",
     "exception": false,
     "start_time": "2022-04-20T20:24:21.013821",
     "status": "completed"
    },
    "tags": []
   },
   "outputs": [
    {
     "data": {
      "text/html": [
       "<div>\n",
       "<style scoped>\n",
       "    .dataframe tbody tr th:only-of-type {\n",
       "        vertical-align: middle;\n",
       "    }\n",
       "\n",
       "    .dataframe tbody tr th {\n",
       "        vertical-align: top;\n",
       "    }\n",
       "\n",
       "    .dataframe thead th {\n",
       "        text-align: right;\n",
       "    }\n",
       "</style>\n",
       "<table border=\"1\" class=\"dataframe\">\n",
       "  <thead>\n",
       "    <tr style=\"text-align: right;\">\n",
       "      <th></th>\n",
       "      <th>Category</th>\n",
       "      <th>DER (St.)</th>\n",
       "      <th>Operating Profit Margin (St.)</th>\n",
       "      <th>Sales Growth (St.)</th>\n",
       "      <th>DER</th>\n",
       "      <th>Operating Profit Margin</th>\n",
       "      <th>Return On Asset</th>\n",
       "      <th>Sales Growth</th>\n",
       "    </tr>\n",
       "  </thead>\n",
       "  <tbody>\n",
       "    <tr>\n",
       "      <th>count</th>\n",
       "      <td>13.0</td>\n",
       "      <td>13.000000</td>\n",
       "      <td>13.000000</td>\n",
       "      <td>13.000000</td>\n",
       "      <td>13.000000</td>\n",
       "      <td>13.000000</td>\n",
       "      <td>13.000000</td>\n",
       "      <td>13.000000</td>\n",
       "    </tr>\n",
       "    <tr>\n",
       "      <th>mean</th>\n",
       "      <td>4.0</td>\n",
       "      <td>0.256141</td>\n",
       "      <td>-0.213229</td>\n",
       "      <td>0.969269</td>\n",
       "      <td>1.703846</td>\n",
       "      <td>91.415846</td>\n",
       "      <td>0.156154</td>\n",
       "      <td>0.673714</td>\n",
       "    </tr>\n",
       "    <tr>\n",
       "      <th>std</th>\n",
       "      <td>0.0</td>\n",
       "      <td>0.468322</td>\n",
       "      <td>0.468885</td>\n",
       "      <td>0.579584</td>\n",
       "      <td>3.260858</td>\n",
       "      <td>223.092402</td>\n",
       "      <td>0.160236</td>\n",
       "      <td>0.375549</td>\n",
       "    </tr>\n",
       "    <tr>\n",
       "      <th>min</th>\n",
       "      <td>4.0</td>\n",
       "      <td>0.032762</td>\n",
       "      <td>-1.348999</td>\n",
       "      <td>0.223175</td>\n",
       "      <td>0.150000</td>\n",
       "      <td>-120.220000</td>\n",
       "      <td>-0.020000</td>\n",
       "      <td>-0.073845</td>\n",
       "    </tr>\n",
       "    <tr>\n",
       "      <th>25%</th>\n",
       "      <td>4.0</td>\n",
       "      <td>0.088143</td>\n",
       "      <td>-0.244725</td>\n",
       "      <td>0.424131</td>\n",
       "      <td>0.470000</td>\n",
       "      <td>1.946000</td>\n",
       "      <td>0.030000</td>\n",
       "      <td>0.477539</td>\n",
       "    </tr>\n",
       "    <tr>\n",
       "      <th>50%</th>\n",
       "      <td>4.0</td>\n",
       "      <td>0.099548</td>\n",
       "      <td>-0.232231</td>\n",
       "      <td>0.905574</td>\n",
       "      <td>0.580000</td>\n",
       "      <td>4.853000</td>\n",
       "      <td>0.100000</td>\n",
       "      <td>0.688955</td>\n",
       "    </tr>\n",
       "    <tr>\n",
       "      <th>75%</th>\n",
       "      <td>4.0</td>\n",
       "      <td>0.116655</td>\n",
       "      <td>-0.197743</td>\n",
       "      <td>1.267395</td>\n",
       "      <td>1.150000</td>\n",
       "      <td>18.660000</td>\n",
       "      <td>0.240000</td>\n",
       "      <td>1.044437</td>\n",
       "    </tr>\n",
       "    <tr>\n",
       "      <th>max</th>\n",
       "      <td>4.0</td>\n",
       "      <td>1.766076</td>\n",
       "      <td>0.937580</td>\n",
       "      <td>1.973190</td>\n",
       "      <td>12.220000</td>\n",
       "      <td>744.890000</td>\n",
       "      <td>0.460000</td>\n",
       "      <td>1.185336</td>\n",
       "    </tr>\n",
       "  </tbody>\n",
       "</table>\n",
       "</div>"
      ],
      "text/plain": [
       "       Category  DER (St.)  Operating Profit Margin (St.)  Sales Growth (St.)  \\\n",
       "count      13.0  13.000000                      13.000000           13.000000   \n",
       "mean        4.0   0.256141                      -0.213229            0.969269   \n",
       "std         0.0   0.468322                       0.468885            0.579584   \n",
       "min         4.0   0.032762                      -1.348999            0.223175   \n",
       "25%         4.0   0.088143                      -0.244725            0.424131   \n",
       "50%         4.0   0.099548                      -0.232231            0.905574   \n",
       "75%         4.0   0.116655                      -0.197743            1.267395   \n",
       "max         4.0   1.766076                       0.937580            1.973190   \n",
       "\n",
       "             DER  Operating Profit Margin  Return On Asset  Sales Growth  \n",
       "count  13.000000                13.000000        13.000000     13.000000  \n",
       "mean    1.703846                91.415846         0.156154      0.673714  \n",
       "std     3.260858               223.092402         0.160236      0.375549  \n",
       "min     0.150000              -120.220000        -0.020000     -0.073845  \n",
       "25%     0.470000                 1.946000         0.030000      0.477539  \n",
       "50%     0.580000                 4.853000         0.100000      0.688955  \n",
       "75%     1.150000                18.660000         0.240000      1.044437  \n",
       "max    12.220000               744.890000         0.460000      1.185336  "
      ]
     },
     "execution_count": 31,
     "metadata": {},
     "output_type": "execute_result"
    }
   ],
   "source": [
    "#Highly Positively Impacted\n",
    "df[df['Category'] == 4].describe() "
   ]
  },
  {
   "cell_type": "code",
   "execution_count": 32,
   "id": "30283f04",
   "metadata": {
    "execution": {
     "iopub.execute_input": "2022-04-20T20:24:21.236445Z",
     "iopub.status.busy": "2022-04-20T20:24:21.235870Z",
     "iopub.status.idle": "2022-04-20T20:24:21.267553Z",
     "shell.execute_reply": "2022-04-20T20:24:21.266948Z"
    },
    "papermill": {
     "duration": 0.095893,
     "end_time": "2022-04-20T20:24:21.269337",
     "exception": false,
     "start_time": "2022-04-20T20:24:21.173444",
     "status": "completed"
    },
    "tags": []
   },
   "outputs": [
    {
     "data": {
      "text/html": [
       "<div>\n",
       "<style scoped>\n",
       "    .dataframe tbody tr th:only-of-type {\n",
       "        vertical-align: middle;\n",
       "    }\n",
       "\n",
       "    .dataframe tbody tr th {\n",
       "        vertical-align: top;\n",
       "    }\n",
       "\n",
       "    .dataframe thead th {\n",
       "        text-align: right;\n",
       "    }\n",
       "</style>\n",
       "<table border=\"1\" class=\"dataframe\">\n",
       "  <thead>\n",
       "    <tr style=\"text-align: right;\">\n",
       "      <th></th>\n",
       "      <th>Category</th>\n",
       "      <th>DER (St.)</th>\n",
       "      <th>Operating Profit Margin (St.)</th>\n",
       "      <th>Sales Growth (St.)</th>\n",
       "      <th>DER</th>\n",
       "      <th>Operating Profit Margin</th>\n",
       "      <th>Return On Asset</th>\n",
       "      <th>Sales Growth</th>\n",
       "    </tr>\n",
       "  </thead>\n",
       "  <tbody>\n",
       "    <tr>\n",
       "      <th>count</th>\n",
       "      <td>0.0</td>\n",
       "      <td>0.0</td>\n",
       "      <td>0.0</td>\n",
       "      <td>0.0</td>\n",
       "      <td>0.0</td>\n",
       "      <td>0.0</td>\n",
       "      <td>0.0</td>\n",
       "      <td>0.0</td>\n",
       "    </tr>\n",
       "    <tr>\n",
       "      <th>mean</th>\n",
       "      <td>NaN</td>\n",
       "      <td>NaN</td>\n",
       "      <td>NaN</td>\n",
       "      <td>NaN</td>\n",
       "      <td>NaN</td>\n",
       "      <td>NaN</td>\n",
       "      <td>NaN</td>\n",
       "      <td>NaN</td>\n",
       "    </tr>\n",
       "    <tr>\n",
       "      <th>std</th>\n",
       "      <td>NaN</td>\n",
       "      <td>NaN</td>\n",
       "      <td>NaN</td>\n",
       "      <td>NaN</td>\n",
       "      <td>NaN</td>\n",
       "      <td>NaN</td>\n",
       "      <td>NaN</td>\n",
       "      <td>NaN</td>\n",
       "    </tr>\n",
       "    <tr>\n",
       "      <th>min</th>\n",
       "      <td>NaN</td>\n",
       "      <td>NaN</td>\n",
       "      <td>NaN</td>\n",
       "      <td>NaN</td>\n",
       "      <td>NaN</td>\n",
       "      <td>NaN</td>\n",
       "      <td>NaN</td>\n",
       "      <td>NaN</td>\n",
       "    </tr>\n",
       "    <tr>\n",
       "      <th>25%</th>\n",
       "      <td>NaN</td>\n",
       "      <td>NaN</td>\n",
       "      <td>NaN</td>\n",
       "      <td>NaN</td>\n",
       "      <td>NaN</td>\n",
       "      <td>NaN</td>\n",
       "      <td>NaN</td>\n",
       "      <td>NaN</td>\n",
       "    </tr>\n",
       "    <tr>\n",
       "      <th>50%</th>\n",
       "      <td>NaN</td>\n",
       "      <td>NaN</td>\n",
       "      <td>NaN</td>\n",
       "      <td>NaN</td>\n",
       "      <td>NaN</td>\n",
       "      <td>NaN</td>\n",
       "      <td>NaN</td>\n",
       "      <td>NaN</td>\n",
       "    </tr>\n",
       "    <tr>\n",
       "      <th>75%</th>\n",
       "      <td>NaN</td>\n",
       "      <td>NaN</td>\n",
       "      <td>NaN</td>\n",
       "      <td>NaN</td>\n",
       "      <td>NaN</td>\n",
       "      <td>NaN</td>\n",
       "      <td>NaN</td>\n",
       "      <td>NaN</td>\n",
       "    </tr>\n",
       "    <tr>\n",
       "      <th>max</th>\n",
       "      <td>NaN</td>\n",
       "      <td>NaN</td>\n",
       "      <td>NaN</td>\n",
       "      <td>NaN</td>\n",
       "      <td>NaN</td>\n",
       "      <td>NaN</td>\n",
       "      <td>NaN</td>\n",
       "      <td>NaN</td>\n",
       "    </tr>\n",
       "  </tbody>\n",
       "</table>\n",
       "</div>"
      ],
      "text/plain": [
       "       Category  DER (St.)  Operating Profit Margin (St.)  Sales Growth (St.)  \\\n",
       "count       0.0        0.0                            0.0                 0.0   \n",
       "mean        NaN        NaN                            NaN                 NaN   \n",
       "std         NaN        NaN                            NaN                 NaN   \n",
       "min         NaN        NaN                            NaN                 NaN   \n",
       "25%         NaN        NaN                            NaN                 NaN   \n",
       "50%         NaN        NaN                            NaN                 NaN   \n",
       "75%         NaN        NaN                            NaN                 NaN   \n",
       "max         NaN        NaN                            NaN                 NaN   \n",
       "\n",
       "       DER  Operating Profit Margin  Return On Asset  Sales Growth  \n",
       "count  0.0                      0.0              0.0           0.0  \n",
       "mean   NaN                      NaN              NaN           NaN  \n",
       "std    NaN                      NaN              NaN           NaN  \n",
       "min    NaN                      NaN              NaN           NaN  \n",
       "25%    NaN                      NaN              NaN           NaN  \n",
       "50%    NaN                      NaN              NaN           NaN  \n",
       "75%    NaN                      NaN              NaN           NaN  \n",
       "max    NaN                      NaN              NaN           NaN  "
      ]
     },
     "execution_count": 32,
     "metadata": {},
     "output_type": "execute_result"
    }
   ],
   "source": [
    "#Highly Positively Impacted\n",
    "df[df['Category'] == 3].describe() "
   ]
  },
  {
   "cell_type": "code",
   "execution_count": 33,
   "id": "bd223679",
   "metadata": {
    "execution": {
     "iopub.execute_input": "2022-04-20T20:24:21.395009Z",
     "iopub.status.busy": "2022-04-20T20:24:21.394358Z",
     "iopub.status.idle": "2022-04-20T20:24:21.427982Z",
     "shell.execute_reply": "2022-04-20T20:24:21.427008Z"
    },
    "papermill": {
     "duration": 0.098592,
     "end_time": "2022-04-20T20:24:21.430022",
     "exception": false,
     "start_time": "2022-04-20T20:24:21.331430",
     "status": "completed"
    },
    "tags": []
   },
   "outputs": [
    {
     "data": {
      "text/html": [
       "<div>\n",
       "<style scoped>\n",
       "    .dataframe tbody tr th:only-of-type {\n",
       "        vertical-align: middle;\n",
       "    }\n",
       "\n",
       "    .dataframe tbody tr th {\n",
       "        vertical-align: top;\n",
       "    }\n",
       "\n",
       "    .dataframe thead th {\n",
       "        text-align: right;\n",
       "    }\n",
       "</style>\n",
       "<table border=\"1\" class=\"dataframe\">\n",
       "  <thead>\n",
       "    <tr style=\"text-align: right;\">\n",
       "      <th></th>\n",
       "      <th>Category</th>\n",
       "      <th>DER (St.)</th>\n",
       "      <th>Operating Profit Margin (St.)</th>\n",
       "      <th>Sales Growth (St.)</th>\n",
       "      <th>DER</th>\n",
       "      <th>Operating Profit Margin</th>\n",
       "      <th>Return On Asset</th>\n",
       "      <th>Sales Growth</th>\n",
       "    </tr>\n",
       "  </thead>\n",
       "  <tbody>\n",
       "    <tr>\n",
       "      <th>count</th>\n",
       "      <td>14.0</td>\n",
       "      <td>14.000000</td>\n",
       "      <td>14.000000</td>\n",
       "      <td>14.000000</td>\n",
       "      <td>14.000000</td>\n",
       "      <td>14.000000</td>\n",
       "      <td>14.000000</td>\n",
       "      <td>14.000000</td>\n",
       "    </tr>\n",
       "    <tr>\n",
       "      <th>mean</th>\n",
       "      <td>2.0</td>\n",
       "      <td>0.235184</td>\n",
       "      <td>0.316797</td>\n",
       "      <td>-0.725116</td>\n",
       "      <td>-0.257143</td>\n",
       "      <td>84.835000</td>\n",
       "      <td>-0.066348</td>\n",
       "      <td>0.078025</td>\n",
       "    </tr>\n",
       "    <tr>\n",
       "      <th>std</th>\n",
       "      <td>0.0</td>\n",
       "      <td>0.436893</td>\n",
       "      <td>1.319589</td>\n",
       "      <td>0.413724</td>\n",
       "      <td>6.574609</td>\n",
       "      <td>215.133781</td>\n",
       "      <td>0.340274</td>\n",
       "      <td>0.309262</td>\n",
       "    </tr>\n",
       "    <tr>\n",
       "      <th>min</th>\n",
       "      <td>2.0</td>\n",
       "      <td>-0.750110</td>\n",
       "      <td>-2.350608</td>\n",
       "      <td>-1.420220</td>\n",
       "      <td>-20.540000</td>\n",
       "      <td>-230.610000</td>\n",
       "      <td>-1.190000</td>\n",
       "      <td>-0.328694</td>\n",
       "    </tr>\n",
       "    <tr>\n",
       "      <th>25%</th>\n",
       "      <td>2.0</td>\n",
       "      <td>0.085648</td>\n",
       "      <td>-0.273202</td>\n",
       "      <td>-0.927070</td>\n",
       "      <td>0.312500</td>\n",
       "      <td>-7.790000</td>\n",
       "      <td>-0.054663</td>\n",
       "      <td>-0.083183</td>\n",
       "    </tr>\n",
       "    <tr>\n",
       "      <th>50%</th>\n",
       "      <td>2.0</td>\n",
       "      <td>0.188648</td>\n",
       "      <td>-0.078002</td>\n",
       "      <td>-0.683514</td>\n",
       "      <td>0.835000</td>\n",
       "      <td>19.860000</td>\n",
       "      <td>-0.010000</td>\n",
       "      <td>0.000000</td>\n",
       "    </tr>\n",
       "    <tr>\n",
       "      <th>75%</th>\n",
       "      <td>2.0</td>\n",
       "      <td>0.258146</td>\n",
       "      <td>1.254853</td>\n",
       "      <td>-0.473021</td>\n",
       "      <td>1.480000</td>\n",
       "      <td>109.480000</td>\n",
       "      <td>0.025000</td>\n",
       "      <td>0.169142</td>\n",
       "    </tr>\n",
       "    <tr>\n",
       "      <th>max</th>\n",
       "      <td>2.0</td>\n",
       "      <td>1.298479</td>\n",
       "      <td>2.504278</td>\n",
       "      <td>-0.123232</td>\n",
       "      <td>8.940000</td>\n",
       "      <td>699.710000</td>\n",
       "      <td>0.290000</td>\n",
       "      <td>0.829775</td>\n",
       "    </tr>\n",
       "  </tbody>\n",
       "</table>\n",
       "</div>"
      ],
      "text/plain": [
       "       Category  DER (St.)  Operating Profit Margin (St.)  Sales Growth (St.)  \\\n",
       "count      14.0  14.000000                      14.000000           14.000000   \n",
       "mean        2.0   0.235184                       0.316797           -0.725116   \n",
       "std         0.0   0.436893                       1.319589            0.413724   \n",
       "min         2.0  -0.750110                      -2.350608           -1.420220   \n",
       "25%         2.0   0.085648                      -0.273202           -0.927070   \n",
       "50%         2.0   0.188648                      -0.078002           -0.683514   \n",
       "75%         2.0   0.258146                       1.254853           -0.473021   \n",
       "max         2.0   1.298479                       2.504278           -0.123232   \n",
       "\n",
       "             DER  Operating Profit Margin  Return On Asset  Sales Growth  \n",
       "count  14.000000                14.000000        14.000000     14.000000  \n",
       "mean   -0.257143                84.835000        -0.066348      0.078025  \n",
       "std     6.574609               215.133781         0.340274      0.309262  \n",
       "min   -20.540000              -230.610000        -1.190000     -0.328694  \n",
       "25%     0.312500                -7.790000        -0.054663     -0.083183  \n",
       "50%     0.835000                19.860000        -0.010000      0.000000  \n",
       "75%     1.480000               109.480000         0.025000      0.169142  \n",
       "max     8.940000               699.710000         0.290000      0.829775  "
      ]
     },
     "execution_count": 33,
     "metadata": {},
     "output_type": "execute_result"
    }
   ],
   "source": [
    "#Highly Positively Impacted\n",
    "df[df['Category'] == 2].describe() "
   ]
  },
  {
   "cell_type": "code",
   "execution_count": 34,
   "id": "67ebb56c",
   "metadata": {
    "execution": {
     "iopub.execute_input": "2022-04-20T20:24:21.556951Z",
     "iopub.status.busy": "2022-04-20T20:24:21.556639Z",
     "iopub.status.idle": "2022-04-20T20:24:21.592623Z",
     "shell.execute_reply": "2022-04-20T20:24:21.592027Z"
    },
    "papermill": {
     "duration": 0.101634,
     "end_time": "2022-04-20T20:24:21.594487",
     "exception": false,
     "start_time": "2022-04-20T20:24:21.492853",
     "status": "completed"
    },
    "tags": []
   },
   "outputs": [
    {
     "data": {
      "text/html": [
       "<div>\n",
       "<style scoped>\n",
       "    .dataframe tbody tr th:only-of-type {\n",
       "        vertical-align: middle;\n",
       "    }\n",
       "\n",
       "    .dataframe tbody tr th {\n",
       "        vertical-align: top;\n",
       "    }\n",
       "\n",
       "    .dataframe thead th {\n",
       "        text-align: right;\n",
       "    }\n",
       "</style>\n",
       "<table border=\"1\" class=\"dataframe\">\n",
       "  <thead>\n",
       "    <tr style=\"text-align: right;\">\n",
       "      <th></th>\n",
       "      <th>Category</th>\n",
       "      <th>DER (St.)</th>\n",
       "      <th>Operating Profit Margin (St.)</th>\n",
       "      <th>Sales Growth (St.)</th>\n",
       "      <th>DER</th>\n",
       "      <th>Operating Profit Margin</th>\n",
       "      <th>Return On Asset</th>\n",
       "      <th>Sales Growth</th>\n",
       "    </tr>\n",
       "  </thead>\n",
       "  <tbody>\n",
       "    <tr>\n",
       "      <th>count</th>\n",
       "      <td>2.0</td>\n",
       "      <td>2.000000</td>\n",
       "      <td>2.000000</td>\n",
       "      <td>2.000000</td>\n",
       "      <td>2.000000</td>\n",
       "      <td>2.000000</td>\n",
       "      <td>2.000000</td>\n",
       "      <td>2.000000</td>\n",
       "    </tr>\n",
       "    <tr>\n",
       "      <th>mean</th>\n",
       "      <td>1.0</td>\n",
       "      <td>-3.311203</td>\n",
       "      <td>-0.831591</td>\n",
       "      <td>-1.224441</td>\n",
       "      <td>-11.485000</td>\n",
       "      <td>-53.997000</td>\n",
       "      <td>-0.145000</td>\n",
       "      <td>-0.305828</td>\n",
       "    </tr>\n",
       "    <tr>\n",
       "      <th>std</th>\n",
       "      <td>0.0</td>\n",
       "      <td>0.575598</td>\n",
       "      <td>0.587755</td>\n",
       "      <td>0.413431</td>\n",
       "      <td>20.880863</td>\n",
       "      <td>77.785989</td>\n",
       "      <td>0.219203</td>\n",
       "      <td>0.093265</td>\n",
       "    </tr>\n",
       "    <tr>\n",
       "      <th>min</th>\n",
       "      <td>1.0</td>\n",
       "      <td>-3.718212</td>\n",
       "      <td>-1.247196</td>\n",
       "      <td>-1.516781</td>\n",
       "      <td>-26.250000</td>\n",
       "      <td>-109.000000</td>\n",
       "      <td>-0.300000</td>\n",
       "      <td>-0.371777</td>\n",
       "    </tr>\n",
       "    <tr>\n",
       "      <th>25%</th>\n",
       "      <td>1.0</td>\n",
       "      <td>-3.514708</td>\n",
       "      <td>-1.039393</td>\n",
       "      <td>-1.370611</td>\n",
       "      <td>-18.867500</td>\n",
       "      <td>-81.498500</td>\n",
       "      <td>-0.222500</td>\n",
       "      <td>-0.338802</td>\n",
       "    </tr>\n",
       "    <tr>\n",
       "      <th>50%</th>\n",
       "      <td>1.0</td>\n",
       "      <td>-3.311203</td>\n",
       "      <td>-0.831591</td>\n",
       "      <td>-1.224441</td>\n",
       "      <td>-11.485000</td>\n",
       "      <td>-53.997000</td>\n",
       "      <td>-0.145000</td>\n",
       "      <td>-0.305828</td>\n",
       "    </tr>\n",
       "    <tr>\n",
       "      <th>75%</th>\n",
       "      <td>1.0</td>\n",
       "      <td>-3.107698</td>\n",
       "      <td>-0.623788</td>\n",
       "      <td>-1.078271</td>\n",
       "      <td>-4.102500</td>\n",
       "      <td>-26.495500</td>\n",
       "      <td>-0.067500</td>\n",
       "      <td>-0.272854</td>\n",
       "    </tr>\n",
       "    <tr>\n",
       "      <th>max</th>\n",
       "      <td>1.0</td>\n",
       "      <td>-2.904194</td>\n",
       "      <td>-0.415985</td>\n",
       "      <td>-0.932101</td>\n",
       "      <td>3.280000</td>\n",
       "      <td>1.006000</td>\n",
       "      <td>0.010000</td>\n",
       "      <td>-0.239880</td>\n",
       "    </tr>\n",
       "  </tbody>\n",
       "</table>\n",
       "</div>"
      ],
      "text/plain": [
       "       Category  DER (St.)  Operating Profit Margin (St.)  Sales Growth (St.)  \\\n",
       "count       2.0   2.000000                       2.000000            2.000000   \n",
       "mean        1.0  -3.311203                      -0.831591           -1.224441   \n",
       "std         0.0   0.575598                       0.587755            0.413431   \n",
       "min         1.0  -3.718212                      -1.247196           -1.516781   \n",
       "25%         1.0  -3.514708                      -1.039393           -1.370611   \n",
       "50%         1.0  -3.311203                      -0.831591           -1.224441   \n",
       "75%         1.0  -3.107698                      -0.623788           -1.078271   \n",
       "max         1.0  -2.904194                      -0.415985           -0.932101   \n",
       "\n",
       "             DER  Operating Profit Margin  Return On Asset  Sales Growth  \n",
       "count   2.000000                 2.000000         2.000000      2.000000  \n",
       "mean  -11.485000               -53.997000        -0.145000     -0.305828  \n",
       "std    20.880863                77.785989         0.219203      0.093265  \n",
       "min   -26.250000              -109.000000        -0.300000     -0.371777  \n",
       "25%   -18.867500               -81.498500        -0.222500     -0.338802  \n",
       "50%   -11.485000               -53.997000        -0.145000     -0.305828  \n",
       "75%    -4.102500               -26.495500        -0.067500     -0.272854  \n",
       "max     3.280000                 1.006000         0.010000     -0.239880  "
      ]
     },
     "execution_count": 34,
     "metadata": {},
     "output_type": "execute_result"
    }
   ],
   "source": [
    "#Highly Positively Impacted\n",
    "df[df['Category'] == 1].describe() "
   ]
  },
  {
   "cell_type": "code",
   "execution_count": 35,
   "id": "df038b57",
   "metadata": {
    "execution": {
     "iopub.execute_input": "2022-04-20T20:24:21.723563Z",
     "iopub.status.busy": "2022-04-20T20:24:21.723066Z",
     "iopub.status.idle": "2022-04-20T20:24:21.754479Z",
     "shell.execute_reply": "2022-04-20T20:24:21.753809Z"
    },
    "papermill": {
     "duration": 0.098001,
     "end_time": "2022-04-20T20:24:21.756371",
     "exception": false,
     "start_time": "2022-04-20T20:24:21.658370",
     "status": "completed"
    },
    "tags": []
   },
   "outputs": [
    {
     "data": {
      "text/html": [
       "<div>\n",
       "<style scoped>\n",
       "    .dataframe tbody tr th:only-of-type {\n",
       "        vertical-align: middle;\n",
       "    }\n",
       "\n",
       "    .dataframe tbody tr th {\n",
       "        vertical-align: top;\n",
       "    }\n",
       "\n",
       "    .dataframe thead th {\n",
       "        text-align: right;\n",
       "    }\n",
       "</style>\n",
       "<table border=\"1\" class=\"dataframe\">\n",
       "  <thead>\n",
       "    <tr style=\"text-align: right;\">\n",
       "      <th></th>\n",
       "      <th>Category</th>\n",
       "      <th>DER (St.)</th>\n",
       "      <th>Operating Profit Margin (St.)</th>\n",
       "      <th>Sales Growth (St.)</th>\n",
       "      <th>DER</th>\n",
       "      <th>Operating Profit Margin</th>\n",
       "      <th>Return On Asset</th>\n",
       "      <th>Sales Growth</th>\n",
       "    </tr>\n",
       "  </thead>\n",
       "  <tbody>\n",
       "    <tr>\n",
       "      <th>count</th>\n",
       "      <td>0.0</td>\n",
       "      <td>0.0</td>\n",
       "      <td>0.0</td>\n",
       "      <td>0.0</td>\n",
       "      <td>0.0</td>\n",
       "      <td>0.0</td>\n",
       "      <td>0.0</td>\n",
       "      <td>0.0</td>\n",
       "    </tr>\n",
       "    <tr>\n",
       "      <th>mean</th>\n",
       "      <td>NaN</td>\n",
       "      <td>NaN</td>\n",
       "      <td>NaN</td>\n",
       "      <td>NaN</td>\n",
       "      <td>NaN</td>\n",
       "      <td>NaN</td>\n",
       "      <td>NaN</td>\n",
       "      <td>NaN</td>\n",
       "    </tr>\n",
       "    <tr>\n",
       "      <th>std</th>\n",
       "      <td>NaN</td>\n",
       "      <td>NaN</td>\n",
       "      <td>NaN</td>\n",
       "      <td>NaN</td>\n",
       "      <td>NaN</td>\n",
       "      <td>NaN</td>\n",
       "      <td>NaN</td>\n",
       "      <td>NaN</td>\n",
       "    </tr>\n",
       "    <tr>\n",
       "      <th>min</th>\n",
       "      <td>NaN</td>\n",
       "      <td>NaN</td>\n",
       "      <td>NaN</td>\n",
       "      <td>NaN</td>\n",
       "      <td>NaN</td>\n",
       "      <td>NaN</td>\n",
       "      <td>NaN</td>\n",
       "      <td>NaN</td>\n",
       "    </tr>\n",
       "    <tr>\n",
       "      <th>25%</th>\n",
       "      <td>NaN</td>\n",
       "      <td>NaN</td>\n",
       "      <td>NaN</td>\n",
       "      <td>NaN</td>\n",
       "      <td>NaN</td>\n",
       "      <td>NaN</td>\n",
       "      <td>NaN</td>\n",
       "      <td>NaN</td>\n",
       "    </tr>\n",
       "    <tr>\n",
       "      <th>50%</th>\n",
       "      <td>NaN</td>\n",
       "      <td>NaN</td>\n",
       "      <td>NaN</td>\n",
       "      <td>NaN</td>\n",
       "      <td>NaN</td>\n",
       "      <td>NaN</td>\n",
       "      <td>NaN</td>\n",
       "      <td>NaN</td>\n",
       "    </tr>\n",
       "    <tr>\n",
       "      <th>75%</th>\n",
       "      <td>NaN</td>\n",
       "      <td>NaN</td>\n",
       "      <td>NaN</td>\n",
       "      <td>NaN</td>\n",
       "      <td>NaN</td>\n",
       "      <td>NaN</td>\n",
       "      <td>NaN</td>\n",
       "      <td>NaN</td>\n",
       "    </tr>\n",
       "    <tr>\n",
       "      <th>max</th>\n",
       "      <td>NaN</td>\n",
       "      <td>NaN</td>\n",
       "      <td>NaN</td>\n",
       "      <td>NaN</td>\n",
       "      <td>NaN</td>\n",
       "      <td>NaN</td>\n",
       "      <td>NaN</td>\n",
       "      <td>NaN</td>\n",
       "    </tr>\n",
       "  </tbody>\n",
       "</table>\n",
       "</div>"
      ],
      "text/plain": [
       "       Category  DER (St.)  Operating Profit Margin (St.)  Sales Growth (St.)  \\\n",
       "count       0.0        0.0                            0.0                 0.0   \n",
       "mean        NaN        NaN                            NaN                 NaN   \n",
       "std         NaN        NaN                            NaN                 NaN   \n",
       "min         NaN        NaN                            NaN                 NaN   \n",
       "25%         NaN        NaN                            NaN                 NaN   \n",
       "50%         NaN        NaN                            NaN                 NaN   \n",
       "75%         NaN        NaN                            NaN                 NaN   \n",
       "max         NaN        NaN                            NaN                 NaN   \n",
       "\n",
       "       DER  Operating Profit Margin  Return On Asset  Sales Growth  \n",
       "count  0.0                      0.0              0.0           0.0  \n",
       "mean   NaN                      NaN              NaN           NaN  \n",
       "std    NaN                      NaN              NaN           NaN  \n",
       "min    NaN                      NaN              NaN           NaN  \n",
       "25%    NaN                      NaN              NaN           NaN  \n",
       "50%    NaN                      NaN              NaN           NaN  \n",
       "75%    NaN                      NaN              NaN           NaN  \n",
       "max    NaN                      NaN              NaN           NaN  "
      ]
     },
     "execution_count": 35,
     "metadata": {},
     "output_type": "execute_result"
    }
   ],
   "source": [
    "#Highly Positively Impacted\n",
    "df[df['Category'] == 0].describe() "
   ]
  }
 ],
 "metadata": {
  "kernelspec": {
   "display_name": "Python 3",
   "language": "python",
   "name": "python3"
  },
  "language_info": {
   "codemirror_mode": {
    "name": "ipython",
    "version": 3
   },
   "file_extension": ".py",
   "mimetype": "text/x-python",
   "name": "python",
   "nbconvert_exporter": "python",
   "pygments_lexer": "ipython3",
   "version": "3.7.12"
  },
  "papermill": {
   "default_parameters": {},
   "duration": 22.82889,
   "end_time": "2022-04-20T20:24:22.642666",
   "environment_variables": {},
   "exception": null,
   "input_path": "__notebook__.ipynb",
   "output_path": "__notebook__.ipynb",
   "parameters": {},
   "start_time": "2022-04-20T20:23:59.813776",
   "version": "2.3.4"
  }
 },
 "nbformat": 4,
 "nbformat_minor": 5
}
